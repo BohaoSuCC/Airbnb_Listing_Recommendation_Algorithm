{
 "cells": [
  {
   "cell_type": "code",
   "execution_count": null,
   "id": "1ca74f5a-172b-45bf-aeda-0880e8165b87",
   "metadata": {},
   "outputs": [],
   "source": [
    "import csv\n",
    "\n",
    "def read_csv(src):\n",
    "    \n",
    "    csvdata = []\n",
    "    with open(src, 'r') as f:\n",
    "        csvr = csv.reader(f)\n",
    "        \n",
    "        for r in csvr:\n",
    "            csvdata.append(r)\n",
    "    \n",
    "    # Return list of lists\n",
    "    return csvdata\n",
    "\n",
    "read_csv(src)\n",
    "\n",
    "read\n",
    "\n",
    "\n",
    "\"\"\"\n",
    "useful for airbnb data\n",
    "\n",
    "df2['price'].str.replace('$', '').astype(float)\n",
    "\n",
    "\n",
    "\"\"\"\n",
    "\n"
   ]
  }
 ],
 "metadata": {
  "kernelspec": {
   "display_name": "Python 3 (ipykernel)",
   "language": "python",
   "name": "python3"
  },
  "language_info": {
   "codemirror_mode": {
    "name": "ipython",
    "version": 3
   },
   "file_extension": ".py",
   "mimetype": "text/x-python",
   "name": "python",
   "nbconvert_exporter": "python",
   "pygments_lexer": "ipython3",
   "version": "3.11.5"
  }
 },
 "nbformat": 4,
 "nbformat_minor": 5
}
