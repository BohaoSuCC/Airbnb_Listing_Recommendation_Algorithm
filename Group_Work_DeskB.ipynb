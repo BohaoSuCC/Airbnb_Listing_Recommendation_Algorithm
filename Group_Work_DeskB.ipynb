{
 "cells": [
  {
   "cell_type": "raw",
   "id": "7601c72b",
   "metadata": {},
   "source": [
    "---\n",
    "bibliography: bio.bib\n",
    "csl: harvard-cite-them-right.csl\n",
    "title: DeskB's Group Project\n",
    "execute:\n",
    "  echo: false\n",
    "format:\n",
    "  html:\n",
    "    theme:\n",
    "      - minty\n",
    "      - css/web.scss\n",
    "    code-copy: true\n",
    "    code-link: true\n",
    "    toc: true\n",
    "    toc-title: On this page\n",
    "    toc-depth: 2\n",
    "    toc_float:\n",
    "      collapsed: false\n",
    "      smooth_scroll: true\n",
    "  pdf:\n",
    "    include-in-header:\n",
    "      text: |\n",
    "        \\addtokomafont{disposition}{\\rmfamily}\n",
    "    mainfont: Spectral\n",
    "    sansfont: Roboto\n",
    "    monofont: JetBrainsMono-Regular\n",
    "    papersize: a4\n",
    "    geometry:\n",
    "      - top=25mm\n",
    "      - left=40mm\n",
    "      - right=30mm\n",
    "      - bottom=25mm\n",
    "      - heightrounded\n",
    "    toc: false\n",
    "    number-sections: false\n",
    "    colorlinks: true\n",
    "    highlight-style: github\n",
    "---"
   ]
  },
  {
   "cell_type": "markdown",
   "id": "ff336c31",
   "metadata": {},
   "source": [
    "## Declaration of Authorship {.unnumbered .unlisted}\n",
    "\n",
    "We, \\[DeskB\\], confirm that the work presented in this assessment is our own. Where information has been derived from other sources, we confirm that this has been indicated in the work. Where a Large Language Model such as ChatGPT has been used we confirm that we have made its contribution to the final submission clear.\n",
    "\n",
    "Date: 11th December 2023\n",
    "\n",
    "Student Numbers: 20017359 23032922 23081403 23103585 23130397\n",
    "\n",
    "## Brief Group Reflection\n",
    "\n",
    "| What Went Well | What Was Challenging |\n",
    "|----------------|----------------------|\n",
    "| A              | B                    |\n",
    "| C              | D                    |\n",
    "\n",
    "## Priorities for Feedback\n",
    "\n",
    "Are there any areas on which you would appreciate more detailed feedback if we're able to offer it?\n",
    "\n",
    "\n",
    "\n",
    "```{=html}\n",
    "<style type=\"text/css\">\n",
    ".duedate {\n",
    "  border: dotted 2px red; \n",
    "  background-color: rgb(255, 235, 235);\n",
    "  height: 50px;\n",
    "  line-height: 50px;\n",
    "  margin-left: 40px;\n",
    "  margin-right: 40px\n",
    "  margin-top: 10px;\n",
    "  margin-bottom: 10px;\n",
    "  color: rgb(150,100,100);\n",
    "  text-align: center;\n",
    "}\n",
    "</style>\n",
    "```\n",
    "\n",
    "{{< pagebreak >}}\n",
    "\n",
    "\n",
    "\n",
    "\n",
    "\n",
    "# Response to Questions\n"
   ]
  },
  {
   "cell_type": "markdown",
   "metadata": {},
   "source": [
    "**Import all packages**"
   ]
  },
  {
   "cell_type": "code",
   "execution_count": 28,
   "id": "9395ad65",
   "metadata": {},
   "outputs": [],
   "source": [
    "import os\n",
    "import spacy\n",
    "\n",
    "import pandas as pd\n",
    "import numpy as np\n",
    "import geopandas as gpd\n",
    "import re\n",
    "import math\n",
    "import string\n",
    "import unicodedata\n",
    "import gensim\n",
    "import matplotlib.pyplot as plt\n",
    "import nltk\n",
    "import seaborn as sns\n",
    "\n",
    "from shapely.geometry import Point\n",
    "\n",
    "from sklearn.preprocessing import OneHotEncoder  # We don't use this but I point out where you *could*\n",
    "from sklearn.feature_extraction.text import TfidfVectorizer\n",
    "from sklearn.feature_extraction.text import CountVectorizer\n",
    "from sklearn.decomposition import LatentDirichletAllocation\n",
    "from sklearn.model_selection import train_test_split\n",
    "from sklearn.ensemble import RandomForestClassifier\n",
    "from sklearn.metrics import accuracy_score\n",
    "\n",
    "from nltk.corpus import wordnet\n",
    "from nltk.stem.wordnet import WordNetLemmatizer\n",
    "from nltk.corpus import stopwords\n",
    "from nltk.tokenize import word_tokenize, sent_tokenize\n",
    "from nltk.tokenize.toktok import ToktokTokenizer\n",
    "from nltk.stem.porter import PorterStemmer\n",
    "from nltk.stem.snowball import SnowballStemmer\n",
    "from nltk import ngrams, FreqDist\n",
    "\n",
    "from gensim.models.coherencemodel import CoherenceModel\n",
    "from gensim.corpora.dictionary import Dictionary\n",
    "from gensim.matutils import Sparse2Corpus\n",
    "from gensim.matutils import corpus2dense\n",
    "from gensim.models import tfidfmodel\n",
    "from gensim.models import TfidfModel\n",
    "from gensim.models import KeyedVectors\n",
    "from gensim.models.ldamodel import LdaModel\n",
    "\n",
    "from bs4 import BeautifulSoup\n",
    "from wordcloud import WordCloud, STOPWORDS\n",
    "\n",
    "\n",
    "# Import everthing from textual/__init__.py\n",
    "# Including bunch of tools and functions we could use for NLP \n",
    "from textual import *"
   ]
  },
  {
   "cell_type": "code",
   "execution_count": 2,
   "metadata": {},
   "outputs": [],
   "source": [
    "lemmatizer = WordNetLemmatizer()\n",
    "tokenizer = ToktokTokenizer()"
   ]
  },
  {
   "cell_type": "code",
   "execution_count": 3,
   "metadata": {},
   "outputs": [
    {
     "data": {
      "text/markdown": [
       "##### Result!\n",
       "\n",
       ">Here's my output...\n"
      ]
     },
     "metadata": {},
     "output_type": "display_data"
    }
   ],
   "source": [
    "# Some Configuration allowing us to output Markdown (like this cell) instead of plain text\n",
    "from IPython.display import display_markdown\n",
    "\n",
    "def as_markdown(head='', body='Some body text'):\n",
    "    if head != '':\n",
    "        display_markdown(f\"##### {head}\\n\\n>{body}\\n\", raw=True)\n",
    "    else:\n",
    "        display_markdown(f\">{body}\\n\", raw=True)\n",
    "\n",
    "as_markdown('Result!', \"Here's my output...\")"
   ]
  },
  {
   "cell_type": "markdown",
   "metadata": {},
   "source": [
    "**Loading the Data**"
   ]
  },
  {
   "cell_type": "code",
   "execution_count": 4,
   "id": "acc8fc9d",
   "metadata": {},
   "outputs": [],
   "source": [
    "# Download and read the csv file remotely from url\n",
    "host = 'http://data.insideairbnb.com'\n",
    "path = 'united-kingdom/england/london/2023-09-06/data'\n",
    "file = 'listings.csv.gz'\n",
    "url  = f'{host}/{path}/{file}'\n",
    "\n",
    "# Save csv file\n",
    "if os.path.exists(file):\n",
    "  Airbnb_Listing = pd.read_csv(file, compression='gzip', low_memory=False)\n",
    "else: \n",
    "  Airbnb_Listing = pd.read_csv(url, compression='gzip', low_memory=False)\n",
    "  Airbnb_Listing.to_csv(file)\n",
    "\n",
    "# Download and read the gpkg file remotel from url\n",
    "host = 'https://data.london.gov.uk'\n",
    "path = 'download/london_boroughs/9502cdec-5df0-46e3-8aa1-2b5c5233a31f'\n",
    "file = 'London_Boroughs.gpkg'\n",
    "url  = f'{host}/{path}/{file}'\n",
    "\n",
    "# Save gkpg file\n",
    "if os.path.exists(file):\n",
    "  London_boroughs = gpd.read_file(file, compression='gzip', low_memory=False)\n",
    "else: \n",
    "  London_boroughs = gpd.read_file(url, compression='gzip', low_memory=False)\n",
    "  London_boroughs.to_file(file, driver='GPKG')\n"
   ]
  },
  {
   "cell_type": "markdown",
   "id": "4e05b736",
   "metadata": {},
   "source": [
    "## 1. Who collected the data? ( 2 points; Answer due Week 7 )\n",
    "\n",
    "::: 1.[\\*listings.csv](http://data.insideairbnb.com/united-kingdom/england/london/2023-09-06/data/listings.csv.gz) : This dataset was created by automatically scraping public information from Airbnb's Website. Murray Cox was one of the main founder and technicians of this mission driven project that aims to provide data and advocacy about Airbnb's impact on residential communities. [\\[1\\]]((http://insideairbnb.com/about))\n",
    "\n",
    "2.[\\*London_Boroughs.gpkg](https://data.london.gov.uk/download/london_boroughs/9502cdec-5df0-46e3-8aa1-2b5c5233a31f/London_Boroughs.gpkg) and [London-wards-2018](https://data.london.gov.uk/download/statistical-gis-boundary-files-london/08d31995-dd27-423c-a987-57fe8e952990/London-wards-2018.zip) : This dataset is an extract from [Ordnance Survey](https://www.ordnancesurvey.co.uk/) Boundary-Line product which is a specialist 1:10 000 scale boundaries dataset.\n",
    "\n",
    ":::\n",
    "\n",
    "An inline citation: As discussed on @insideairbnb, there are many...\n",
    "\n",
    "A parenthetical citation: There are many ways to research Airbnb [see, for example, @insideairbnb]...\n",
    "\n",
    "## 2. Why did they collect it? ( 4 points; Answer due Week 7 )\n",
    "\n",
    ":::\n",
    "\n",
    "1.[\\*listings.csv](http://data.insideairbnb.com/united-kingdom/england/london/2023-09-06/data/listings.csv.gz) : Inside Airbnb is a mission driven project that provides data and advocacy about Airbnb's impact on residential communities. We work towards a vision where communities are empowered with data and information to understand, decide and control the role of renting residential homes to tourists.\n",
    "\n",
    "2.[\\*London_Boroughs.gpkg](https://data.london.gov.uk/download/london_boroughs/9502cdec-5df0-46e3-8aa1-2b5c5233a31f/London_Boroughs.gpkg) : With a long history and evolving from . The Ordnance Survey aims to help governments make smarter decisions that ensure our safety and security, they also show businesses how to gain a location data edge and we help everyone experience the benefits of the world outside. Under the [Public Sector Geospatial Agreement](https://www.ordnancesurvey.co.uk/customers/public-sector/public-sector-geospatial-agreement) (PSGA), Ordnance Survey (OS) provides Great Britain' national mapping services. OS creates, maintains and provides access to consistent, definitive and authoritative location data of Great Britain, aiming to help organisations to maximise the use, value and benefit of the data for the national interest and the public good. :::\n"
   ]
  },
  {
   "cell_type": "markdown",
   "metadata": {},
   "source": [
    "**Size of Data**"
   ]
  },
  {
   "cell_type": "code",
   "execution_count": 5,
   "id": "9c9b5919",
   "metadata": {},
   "outputs": [
    {
     "name": "stdout",
     "output_type": "stream",
     "text": [
      "Data frame is 87,946 x 75\n"
     ]
    }
   ],
   "source": [
    "print(f\"Data frame is {Airbnb_Listing.shape[0]:,} x {Airbnb_Listing.shape[1]:,}\")\n",
    "#print(Airbnb_Listing.columns)"
   ]
  },
  {
   "cell_type": "markdown",
   "id": "695144d0",
   "metadata": {},
   "source": [
    "## 3. How was the data collected? ( 5 points; Answer due Week 8 )\n",
    "\n",
    "::: 1.[\\*listings.csv](http://data.insideairbnb.com/united-kingdom/england/london/2023-09-06/data/listings.csv.gz) : Inside Airbnb collects its data primarily by scraping information from the Airbnb website. This process involves the following steps:\n",
    "\n",
    "**i.Web Scraping**: Inside Airbnb uses automated scripts to systematically browse and extract data from Airbnb's listings. These scripts navigate the website just like a human user would, but they do it much faster and on a larger scale.\n",
    "\n",
    "**ii.Data Extraction**: Information about each listing, such as location, price, availability, number of bedrooms, reviews, and host details, is extracted and compiled.\n",
    "\n",
    "**iii.Data Aggregation**: The collected data is then aggregated into a database. This database is organized to make it easier to analyze trends, patterns, and insights related to Airbnb's offerings in various cities and regions.\n",
    "\n",
    "**iv.Regular Updates**: The scraping process is repeated periodically to keep the database current, capturing new listings and updates to existing ones.\n",
    "\n",
    "**v.Public Accessibility**: The aggregated data is often made available to the public through the Inside Airbnb website, enabling researchers, policymakers, and the general public to analyze Airbnb's impact on housing markets and communities. It's important to note that web scraping practices, like those used by Inside Airbnb, may face legal and ethical considerations depending on the website's terms of service and regional laws regarding data privacy and usage.\n",
    "\n",
    "2.[\\*London_Boroughs.gpkg](https://data.london.gov.uk/download/london_boroughs/9502cdec-5df0-46e3-8aa1-2b5c5233a31f/London_Boroughs.gpkg) : \"Boundary-Line for England and Wales was initially digitised from Ordnance Survey's boundary record sheets at 1:10 000 scale (or, in some cases, at larger scales). The Government Statistical Service (GSS) codes are supplied by the Office for National Statistics and General Register Office for Scotland(GROS). GIS software provides the functionality to store, manage and manipulate this digital map data. The properties of the data make it suitable as a key base for users wishing to develop applications. BoundaryLine is also suitable for use within other digital mapping systems. It's coordinated on the National Grid which allows for the easy superimposition of other data. :::\n"
   ]
  },
  {
   "cell_type": "code",
   "execution_count": 6,
   "id": "c406d01d",
   "metadata": {},
   "outputs": [],
   "source": [
    "#print(Airbnb_Listing.info())"
   ]
  },
  {
   "cell_type": "markdown",
   "metadata": {},
   "source": [
    "## 4. How does the method of collection impact the completeness and/or accuracy of its representation of the process it seeks to study, and what wider issues does this raise?\n",
    "\n",
    "::: duedate\n",
    "( 11 points; Answer due Week 9 )\n",
    ":::"
   ]
  },
  {
   "cell_type": "code",
   "execution_count": 7,
   "metadata": {},
   "outputs": [
    {
     "name": "stdout",
     "output_type": "stream",
     "text": [
      "87946\n"
     ]
    }
   ],
   "source": [
    "# Check NAs 检查缺失值（缺失值会如何影响\n",
    "print(Airbnb_Listing['bathrooms'].isna().sum())\n"
   ]
  },
  {
   "cell_type": "markdown",
   "metadata": {},
   "source": [
    "## 5. What ethical considerations does the use of this data raise?\n",
    "\n",
    "::: duedate\n",
    "( 18 points; Answer due {{< var assess.group-date >}} )\n",
    ":::"
   ]
  },
  {
   "cell_type": "markdown",
   "id": "ec2f7f16",
   "metadata": {},
   "source": [
    "## 6. With reference to the data (*i.e.* using numbers, figures, maps, and descriptive statistics), what does an analysis of Hosts and Listing types suggest about the nature of Airbnb lets in London?"
   ]
  },
  {
   "cell_type": "markdown",
   "metadata": {},
   "source": [
    "::: duedate\n",
    "( 15 points; Answer due {{< var assess.group-date >}} )\n",
    ":::"
   ]
  },
  {
   "cell_type": "markdown",
   "metadata": {},
   "source": [
    "**数据基础处理**"
   ]
  },
  {
   "cell_type": "code",
   "execution_count": 8,
   "metadata": {},
   "outputs": [
    {
     "name": "stdout",
     "output_type": "stream",
     "text": [
      "nltk.download successful\n"
     ]
    },
    {
     "name": "stderr",
     "output_type": "stream",
     "text": [
      "[nltk_data] Downloading package wordnet to\n",
      "[nltk_data]     C:\\Users\\SBH\\AppData\\Roaming\\nltk_data...\n",
      "[nltk_data]   Package wordnet is already up-to-date!\n",
      "[nltk_data] Downloading package averaged_perceptron_tagger to\n",
      "[nltk_data]     C:\\Users\\SBH\\AppData\\Roaming\\nltk_data...\n",
      "[nltk_data]   Package averaged_perceptron_tagger is already up-to-\n",
      "[nltk_data]       date!\n",
      "[nltk_data] Downloading package stopwords to\n",
      "[nltk_data]     C:\\Users\\SBH\\AppData\\Roaming\\nltk_data...\n",
      "[nltk_data]   Package stopwords is already up-to-date!\n"
     ]
    }
   ],
   "source": [
    "%%capture --no-stdout\n",
    "# Prepare for necessary nltk packages\n",
    "nltk.download('wordnet') # <-- These are done in a supporting tool, but in your own\n",
    "nltk.download('averaged_perceptron_tagger') # application you'd need to import them\n",
    "nltk.download('stopwords')\n",
    "stopword_list = set(stopwords.words('english'))\n",
    "print(\"nltk.download successful\")"
   ]
  },
  {
   "cell_type": "markdown",
   "metadata": {},
   "source": [
    "**选出有用的columns**"
   ]
  },
  {
   "cell_type": "code",
   "execution_count": 9,
   "metadata": {},
   "outputs": [],
   "source": [
    "Airbnb_Listing.columns\n",
    "remained_columns = ['id','description','neighbourhood_cleansed','latitude','longitude',\n",
    "                    'room_type','amenities','price','number_of_reviews',\n",
    "                    'review_scores_rating', 'review_scores_accuracy','review_scores_cleanliness', \n",
    "                    'review_scores_checkin','review_scores_communication', 'review_scores_location','review_scores_value',\n",
    "                    'reviews_per_month']\n",
    "Airbnb_Listing = Airbnb_Listing[remained_columns]\n"
   ]
  },
  {
   "cell_type": "code",
   "execution_count": 10,
   "metadata": {},
   "outputs": [],
   "source": [
    "# import relating operating tools to normalise 'description' and 'amenities' from Jon Reades codes\n",
    "\n",
    "import urllib.request\n",
    "host  = 'https://orca.casa.ucl.ac.uk'\n",
    "turl  = f'{host}/~jreades/__textual__.py'\n",
    "tdirs = os.path.join('textual')\n",
    "tpath = os.path.join(tdirs,'__init__.py')\n",
    "\n",
    "if not os.path.exists(tpath):\n",
    "    os.makedirs(tdirs, exist_ok=True)\n",
    "    urllib.request.urlretrieve(turl, tpath)"
   ]
  },
  {
   "cell_type": "code",
   "execution_count": 11,
   "metadata": {},
   "outputs": [],
   "source": [
    "# This allows us to edit and reload the library\n",
    "%load_ext autoreload\n",
    "%autoreload 2"
   ]
  },
  {
   "cell_type": "code",
   "execution_count": 12,
   "metadata": {},
   "outputs": [
    {
     "name": "stdout",
     "output_type": "stream",
     "text": [
      "Now gdf has 86,679 rows.\n"
     ]
    }
   ],
   "source": [
    "# Drop NAs of columns ['description','amenities']\n",
    "Airbnb_Listing = Airbnb_Listing.dropna(subset=['description','amenities'])\n",
    "print(f\"Now gdf has {Airbnb_Listing.shape[0]:,} rows.\")"
   ]
  },
  {
   "cell_type": "markdown",
   "metadata": {},
   "source": [
    "**Trying to normalise ['description','amenities']**"
   ]
  },
  {
   "cell_type": "markdown",
   "metadata": {},
   "source": [
    "codes below should be operated only once, run it again only if updating needed"
   ]
  },
  {
   "cell_type": "code",
   "execution_count": null,
   "metadata": {},
   "outputs": [],
   "source": [
    "\"\"\"\n",
    "%%time \n",
    "# I get about 21 minutes \n",
    "Airbnb_Listing['description_norm'] = Airbnb_Listing['description'].apply(normalise_document, remove_digits=True)\n",
    "\"\"\""
   ]
  },
  {
   "cell_type": "code",
   "execution_count": null,
   "metadata": {},
   "outputs": [],
   "source": [
    "\"\"\"\n",
    "%%time \n",
    "# Codes below should be operated only once, run it again only if undating needed\n",
    "\n",
    "# I get about 21 minutes \n",
    "Airbnb_Listing['amenities_norm'] = Airbnb_Listing['amenities'].apply(normalise_document, remove_digits=True)\n",
    "\"\"\""
   ]
  },
  {
   "cell_type": "code",
   "execution_count": 32,
   "metadata": {},
   "outputs": [],
   "source": [
    "# Codes below should be operated only once, run it again only if undating needed\n",
    "# Airbnb_Listing.to_csv('./Data/Airbnb_Listing_norm.csv', index=True)"
   ]
  },
  {
   "cell_type": "markdown",
   "metadata": {},
   "source": [
    "**Pre-Processing finished**"
   ]
  },
  {
   "cell_type": "markdown",
   "metadata": {},
   "source": [
    "**Read the new csvfile**"
   ]
  },
  {
   "cell_type": "code",
   "execution_count": 13,
   "metadata": {},
   "outputs": [],
   "source": [
    "import pandas as pd\n",
    "#Read the normed csv\n",
    "Airbnb_Listing = pd.read_csv(\"./Data/Airbnb_Listing_norm.csv\")"
   ]
  },
  {
   "cell_type": "code",
   "execution_count": 15,
   "metadata": {},
   "outputs": [],
   "source": [
    "# Select the Corpus\n",
    "corpus = Airbnb_Listing['description_norm'].fillna(' ').values\n",
    "\n",
    "# sentences is lists of lists to divide every 'description' into many sentences.\n",
    "# word is lists of lists to transfer sentences info individual word\n",
    "sentences = [nltk.sent_tokenize(text) for text in corpus]\n",
    "words     = [[nltk.tokenize.word_tokenize(sentence) \n",
    "                  for sentence in nltk.sent_tokenize(text)] \n",
    "                  for text in corpus]\n"
   ]
  },
  {
   "cell_type": "markdown",
   "metadata": {},
   "source": [
    "**向stopwords中加入额外不想要的词**"
   ]
  },
  {
   "cell_type": "code",
   "execution_count": null,
   "metadata": {},
   "outputs": [],
   "source": [
    "stopwords_extra = ['would','able']"
   ]
  },
  {
   "cell_type": "markdown",
   "metadata": {},
   "source": [
    "**Latent Dirchlet Allocation**"
   ]
  },
  {
   "cell_type": "markdown",
   "metadata": {},
   "source": [
    "使用TF-IDF模型进行向量化"
   ]
  },
  {
   "cell_type": "code",
   "execution_count": 19,
   "metadata": {},
   "outputs": [
    {
     "name": "stdout",
     "output_type": "stream",
     "text": [
      "TF/IDF data frame has 87,946 rows and 2,320 columns.\n"
     ]
    }
   ],
   "source": [
    "# Fit and Transform\n",
    "tfvectorizer = TfidfVectorizer(use_idf=True, ngram_range=(1,4), \n",
    "                               max_df=0.3, min_df=0.005,stop_words='english') # modify these parameter to improve the model\n",
    "tfidf_corpus = tfvectorizer.fit_transform(corpus) # TF-transformed corpus\n",
    "\n",
    "\"\"\"\n",
    "# Single Document\n",
    "# 创建了一个DataFrame，显示第一个文档（tftcorpus[0]）的TF-IDF权重。\n",
    "doc_df = pd.DataFrame(tftcorpus[0].T.todense(), index=tfvectorizer.get_feature_names_out(), columns=[\"Weights\"])\n",
    "# 对这些权重进行排序，显示权重最高的前10个词。\n",
    "doc_df.sort_values('Weights', ascending=False).head(10)\n",
    "\"\"\"\n",
    "\n",
    "# Transformed corpus\n",
    "# 将整个TF-IDF转换后的语料库转换为DataFrame格式 \n",
    "tfidf_dataframe = pd.DataFrame(data=tftcorpus.toarray(),\n",
    "                        columns=tfvectorizer.get_feature_names_out())#将稀疏矩阵转换为密集矩阵，并使用相同的特征名称作为列名。\n",
    "print(f\"TF/IDF data frame has {tfidf.shape[0]:,} rows and {tfidf.shape[1]:,} columns.\")#打印DataFrame的行数和列数，即文档数和特征数。\n"
   ]
  },
  {
   "cell_type": "markdown",
   "metadata": {},
   "source": [
    "构建和训练LDA模型\n",
    "\n",
    "接着，构建LDA模型并用预处理后的数据进行训练。"
   ]
  },
  {
   "cell_type": "code",
   "execution_count": 52,
   "metadata": {},
   "outputs": [
    {
     "name": "stdout",
     "output_type": "stream",
     "text": [
      "Optimal number of topics: 16\n"
     ]
    }
   ],
   "source": [
    "# 确定n_components参数\n",
    "\n",
    "\n",
    "# 准备Gensim所需的数据结构\n",
    "texts = [doc.split() for doc in corpus]                 #分词\n",
    "dictionary = Dictionary(texts)                          #每个词创建唯一值字典\n",
    "bow_corpus = [dictionary.doc2bow(text) for text in texts]\n",
    "#将其转换为TFIDF模型\n",
    "tfidf_model = TfidfModel(bow_corpus)\n",
    "tfidf_corpus = [tfidf_model[doc] for doc in bow_corpus]\n",
    "\n",
    "\"\"\"\n",
    "# 您需要将Gensim的TF-IDF语料库转换为scikit-learn可以处理的格式。\n",
    "# 通常，这涉及到将Gensim生成的稀疏表示转换为一个密集的NumPy数组或者一个稀疏矩阵。\n",
    "num_terms = len(dictionary)\n",
    "num_docs = len(tfidf_corpus)\n",
    "tfidf_sparse = corpus2dense(tfidf_corpus,num_docs=num_docs,num_terms=num_terms).T\n",
    "\"\"\"\n",
    "\n",
    "# 测试不同的主题数\n",
    "coherence_values = []\n",
    "\n",
    "for n_topics in range(1, 41):\n",
    "    LDA = LdaModel(corpus=tfidf_corpus, id2word=dictionary, num_topics=n_topics, random_state=42,iterations=800)\n",
    "    CM = CoherenceModel(model=LDA, texts=texts, dictionary=dictionary, coherence='c_v')\n",
    "    coherence_values.append(CM.get_coherence())\n",
    "\n",
    "\n",
    "# 选择最佳主题数\n",
    "optimal_topics = np.argmax(coherence_values) + 1  # 加1因为索引从0开始\n",
    "print(f\"Optimal number of topics: {optimal_topics}\")\n"
   ]
  },
  {
   "cell_type": "code",
   "execution_count": 54,
   "metadata": {},
   "outputs": [],
   "source": [
    "#保存不同主题的coherence值\n",
    "\n",
    "\n",
    "# 创建包含主题数和一致性得分的DataFrame\n",
    "LDA_topic_coherence_data = {'Topic_Num': range(1, len(coherence_values) + 1), 'Coherence_Score': coherence_values}\n",
    "LDA_topic_coherence_frame = pd.DataFrame(LDA_topic_coherence_data)\n",
    "# 保存为CSV文件\n",
    "LDA_topic_coherence_frame.to_csv(\"./Data/coherence_values.csv\", index=False)\n"
   ]
  },
  {
   "cell_type": "code",
   "execution_count": 55,
   "metadata": {},
   "outputs": [
    {
     "data": {
      "image/png": "[encoded data removed]",
      "text/plain": [
       "<Figure size 1000x600 with 1 Axes>"
      ]
     },
     "metadata": {},
     "output_type": "display_data"
    }
   ],
   "source": [
    "\n",
    "\n",
    "# 主题数量\n",
    "num_topics = range(1, len(coherence_values) + 1)\n",
    "# 绘制折线图\n",
    "plt.figure(figsize=(10, 6))\n",
    "plt.plot(num_topics, coherence_values, marker='o')\n",
    "plt.title('Coherence Scores across Different Numbers of Topics')\n",
    "plt.xlabel('Number of Topics')\n",
    "plt.ylabel('Coherence Score')\n",
    "plt.grid(True)\n",
    "plt.xticks(num_topics)\n",
    "plt.show()"
   ]
  },
  {
   "cell_type": "markdown",
   "metadata": {},
   "source": [
    "将主题分配给文档\n",
    "\n",
    "对每个文档（房源描述）分配一个主题。"
   ]
  },
  {
   "cell_type": "code",
   "execution_count": null,
   "metadata": {},
   "outputs": [],
   "source": [
    "# 设置LDA模型\n",
    "LDA = LdaModel(corpus=tfidf_corpus, id2word=dictionary, num_topics=optimal_topics, random_state=42,iterations=800)\n",
    "# 对每个文档获取主题分布\n",
    "doc_topics = [LDA.get_document_topics(bow) for bow in tfidf_corpus]\n",
    "\n",
    "# 获取每个主题的主要词汇\n",
    "topics = LDA.print_topics(num_words=10)\n"
   ]
  },
  {
   "cell_type": "markdown",
   "metadata": {},
   "source": [
    "查看主题和关键词\n",
    "\n",
    "查看模型找出的主题和每个主题的关键词。"
   ]
  },
  {
   "cell_type": "code",
   "execution_count": 61,
   "metadata": {},
   "outputs": [],
   "source": [
    "# 获取每个主题的主题词及其权重\n",
    "topics = LDA.show_topics(num_topics=16, num_words=20, formatted=False)\n",
    "\n",
    "# 创建一个list保存每个主题的主题词及权重\n",
    "LDA_topics_data = []\n",
    "\n",
    "for topic_num, topic_words in topics:\n",
    "    for word, weight in topic_words:\n",
    "        LDA_topics_data.append({'Topic': topic_num, 'Word': word, 'Weight': weight})\n",
    "\n",
    "# 转换为DataFrame\n",
    "LDA_topics_frame = pd.DataFrame(LDA_topics_data)\n",
    "\n",
    "# 保存这个模型生成的主题结果\n",
    "LDA_topics_frame.to_csv(\"./Data/lda_topics_and_words.csv\", index=False)\n"
   ]
  },
  {
   "cell_type": "code",
   "execution_count": 63,
   "metadata": {},
   "outputs": [
    {
     "data": {
      "text/html": [
       "<div>\n",
       "<style scoped>\n",
       "    .dataframe tbody tr th:only-of-type {\n",
       "        vertical-align: middle;\n",
       "    }\n",
       "\n",
       "    .dataframe tbody tr th {\n",
       "        vertical-align: top;\n",
       "    }\n",
       "\n",
       "    .dataframe thead th {\n",
       "        text-align: right;\n",
       "    }\n",
       "</style>\n",
       "<table border=\"1\" class=\"dataframe\">\n",
       "  <thead>\n",
       "    <tr style=\"text-align: right;\">\n",
       "      <th></th>\n",
       "      <th>Topic</th>\n",
       "      <th>Word</th>\n",
       "      <th>Weight</th>\n",
       "    </tr>\n",
       "  </thead>\n",
       "  <tbody>\n",
       "    <tr>\n",
       "      <th>61</th>\n",
       "      <td>3</td>\n",
       "      <td>comes</td>\n",
       "      <td>0.012817</td>\n",
       "    </tr>\n",
       "    <tr>\n",
       "      <th>228</th>\n",
       "      <td>11</td>\n",
       "      <td>welllocated</td>\n",
       "      <td>0.009303</td>\n",
       "    </tr>\n",
       "    <tr>\n",
       "      <th>291</th>\n",
       "      <td>14</td>\n",
       "      <td>parsons</td>\n",
       "      <td>0.008132</td>\n",
       "    </tr>\n",
       "    <tr>\n",
       "      <th>15</th>\n",
       "      <td>0</td>\n",
       "      <td>family</td>\n",
       "      <td>0.009688</td>\n",
       "    </tr>\n",
       "    <tr>\n",
       "      <th>54</th>\n",
       "      <td>2</td>\n",
       "      <td>waterfall</td>\n",
       "      <td>0.006245</td>\n",
       "    </tr>\n",
       "    <tr>\n",
       "      <th>289</th>\n",
       "      <td>14</td>\n",
       "      <td>tussauds</td>\n",
       "      <td>0.009843</td>\n",
       "    </tr>\n",
       "    <tr>\n",
       "      <th>104</th>\n",
       "      <td>5</td>\n",
       "      <td>peaceful</td>\n",
       "      <td>0.009402</td>\n",
       "    </tr>\n",
       "    <tr>\n",
       "      <th>254</th>\n",
       "      <td>12</td>\n",
       "      <td>bedsit</td>\n",
       "      <td>0.003769</td>\n",
       "    </tr>\n",
       "    <tr>\n",
       "      <th>215</th>\n",
       "      <td>10</td>\n",
       "      <td>kitchen</td>\n",
       "      <td>0.004329</td>\n",
       "    </tr>\n",
       "    <tr>\n",
       "      <th>71</th>\n",
       "      <td>3</td>\n",
       "      <td>airconditioning</td>\n",
       "      <td>0.006203</td>\n",
       "    </tr>\n",
       "    <tr>\n",
       "      <th>72</th>\n",
       "      <td>3</td>\n",
       "      <td>device</td>\n",
       "      <td>0.006034</td>\n",
       "    </tr>\n",
       "    <tr>\n",
       "      <th>90</th>\n",
       "      <td>4</td>\n",
       "      <td>highstreet</td>\n",
       "      <td>0.006788</td>\n",
       "    </tr>\n",
       "    <tr>\n",
       "      <th>174</th>\n",
       "      <td>8</td>\n",
       "      <td>flat</td>\n",
       "      <td>0.005517</td>\n",
       "    </tr>\n",
       "    <tr>\n",
       "      <th>154</th>\n",
       "      <td>7</td>\n",
       "      <td>upton</td>\n",
       "      <td>0.006448</td>\n",
       "    </tr>\n",
       "    <tr>\n",
       "      <th>177</th>\n",
       "      <td>8</td>\n",
       "      <td>chelsea</td>\n",
       "      <td>0.004593</td>\n",
       "    </tr>\n",
       "    <tr>\n",
       "      <th>151</th>\n",
       "      <td>7</td>\n",
       "      <td>brent</td>\n",
       "      <td>0.006804</td>\n",
       "    </tr>\n",
       "    <tr>\n",
       "      <th>136</th>\n",
       "      <td>6</td>\n",
       "      <td>chef</td>\n",
       "      <td>0.006118</td>\n",
       "    </tr>\n",
       "    <tr>\n",
       "      <th>307</th>\n",
       "      <td>15</td>\n",
       "      <td>enjoyable</td>\n",
       "      <td>0.010325</td>\n",
       "    </tr>\n",
       "    <tr>\n",
       "      <th>186</th>\n",
       "      <td>9</td>\n",
       "      <td>central</td>\n",
       "      <td>0.006582</td>\n",
       "    </tr>\n",
       "    <tr>\n",
       "      <th>223</th>\n",
       "      <td>11</td>\n",
       "      <td>threebedroom</td>\n",
       "      <td>0.012967</td>\n",
       "    </tr>\n",
       "  </tbody>\n",
       "</table>\n",
       "</div>"
      ],
      "text/plain": [
       "     Topic             Word    Weight\n",
       "61       3            comes  0.012817\n",
       "228     11      welllocated  0.009303\n",
       "291     14          parsons  0.008132\n",
       "15       0           family  0.009688\n",
       "54       2        waterfall  0.006245\n",
       "289     14         tussauds  0.009843\n",
       "104      5         peaceful  0.009402\n",
       "254     12           bedsit  0.003769\n",
       "215     10          kitchen  0.004329\n",
       "71       3  airconditioning  0.006203\n",
       "72       3           device  0.006034\n",
       "90       4       highstreet  0.006788\n",
       "174      8             flat  0.005517\n",
       "154      7            upton  0.006448\n",
       "177      8          chelsea  0.004593\n",
       "151      7            brent  0.006804\n",
       "136      6             chef  0.006118\n",
       "307     15        enjoyable  0.010325\n",
       "186      9          central  0.006582\n",
       "223     11     threebedroom  0.012967"
      ]
     },
     "execution_count": 63,
     "metadata": {},
     "output_type": "execute_result"
    }
   ],
   "source": [
    "LDA_topics_frame.sample(20)"
   ]
  },
  {
   "cell_type": "markdown",
   "metadata": {},
   "source": [
    "分析和可视化\n",
    "\n",
    "分析得到的主题，并根据需要进行可视化。"
   ]
  },
  {
   "cell_type": "code",
   "execution_count": null,
   "metadata": {},
   "outputs": [],
   "source": [
    "\n",
    "\n",
    "# 示例：主题分布的柱状图\n",
    "sns.countplot(df['Topic'])\n",
    "plt.title('Topic Distribution')\n",
    "plt.xlabel('Topic')\n",
    "plt.ylabel('Frequency')\n",
    "plt.show()\n"
   ]
  },
  {
   "cell_type": "markdown",
   "metadata": {},
   "source": [
    "**Word 2 Vec**"
   ]
  },
  {
   "cell_type": "code",
   "execution_count": null,
   "metadata": {},
   "outputs": [],
   "source": [
    "# 训练模型\n",
    "from gensim.models import Word2Vec\n",
    "\n",
    "# 假设 `texts` 是你的分词后的文本数据（每个文本为词的列表）\n",
    "texts = [...]  # 你的分词数据\n",
    "\n",
    "# 训练Word2Vec模型\n",
    "model = Word2Vec(sentences=texts, vector_size=100, window=5, min_count=5, workers=4)\n"
   ]
  },
  {
   "cell_type": "code",
   "execution_count": null,
   "metadata": {},
   "outputs": [],
   "source": [
    "# 转换文本向量\n",
    "\n",
    "def document_vector(word2vec_model, doc):\n",
    "    # 移除不在词汇表中的词\n",
    "    doc = [word for word in doc if word in word2vec_model.wv.key_to_index]\n",
    "    return np.mean(word2vec_model.wv[doc], axis=0)\n",
    "\n",
    "# 为每个文档计算向量\n",
    "doc_vectors = np.array([document_vector(model, doc) for doc in texts])\n",
    "\n",
    "\n",
    "#使用任何类型的分类器来预测是否有license\n",
    "# 划分训练集和测试集\n",
    "X_train, X_test, y_train, y_test = train_test_split(doc_vectors, labels, test_size=0.2, random_state=42)\n",
    "\n",
    "# 训练分类器\n",
    "classifier = RandomForestClassifier(n_estimators=100, random_state=42)\n",
    "classifier.fit(X_train, y_train)\n",
    "\n",
    "# 预测测试集\n",
    "y_pred = classifier.predict(X_test)\n",
    "\n",
    "# 评估模型\n",
    "print(\"Accuracy:\", accuracy_score(y_test, y_pred))\n"
   ]
  },
  {
   "cell_type": "code",
   "execution_count": 28,
   "metadata": {},
   "outputs": [
    {
     "name": "stdout",
     "output_type": "stream",
     "text": [
      "You've chosen 100 dimensions.\n",
      "You've chosen a window of size 3.\n",
      "With a minimum frequency of 0.005 and 86,679 documents, minimum vocab frequency is 434.\n"
     ]
    }
   ],
   "source": [
    "\"\"\"\n",
    "dims = 100\n",
    "print(f\"You've chosen {dims} dimensions.\")\n",
    "\n",
    "window = 3\n",
    "print(f\"You've chosen a window of size {window}.\")\n",
    "\n",
    "min_v_freq  = 0.005 # Don't keep words appearing less than 0.5% frequency\n",
    "min_v_count = math.ceil(min_v_freq * gdf_listing.shape[0])\n",
    "print(f\"With a minimum frequency of {min_v_freq} and {gdf_listing.shape[0]:,} documents, minimum vocab frequency is {min_v_count:,}.\")\n",
    "\"\"\""
   ]
  },
  {
   "cell_type": "code",
   "execution_count": null,
   "metadata": {},
   "outputs": [],
   "source": []
  },
  {
   "cell_type": "code",
   "execution_count": 30,
   "metadata": {},
   "outputs": [
    {
     "data": {
      "text/plain": [
       "Index(['id', 'listing_url', 'scrape_id', 'last_scraped', 'source', 'name',\n",
       "       'description', 'neighborhood_overview', 'picture_url', 'host_id',\n",
       "       'host_url', 'host_name', 'host_since', 'host_location', 'host_about',\n",
       "       'host_response_time', 'host_response_rate', 'host_acceptance_rate',\n",
       "       'host_is_superhost', 'host_thumbnail_url', 'host_picture_url',\n",
       "       'host_neighbourhood', 'host_listings_count',\n",
       "       'host_total_listings_count', 'host_verifications',\n",
       "       'host_has_profile_pic', 'host_identity_verified', 'neighbourhood',\n",
       "       'neighbourhood_cleansed', 'neighbourhood_group_cleansed', 'latitude',\n",
       "       'longitude', 'property_type', 'room_type', 'accommodates', 'bathrooms',\n",
       "       'bathrooms_text', 'bedrooms', 'beds', 'amenities', 'price',\n",
       "       'minimum_nights', 'maximum_nights', 'minimum_minimum_nights',\n",
       "       'maximum_minimum_nights', 'minimum_maximum_nights',\n",
       "       'maximum_maximum_nights', 'minimum_nights_avg_ntm',\n",
       "       'maximum_nights_avg_ntm', 'calendar_updated', 'has_availability',\n",
       "       'availability_30', 'availability_60', 'availability_90',\n",
       "       'availability_365', 'calendar_last_scraped', 'number_of_reviews',\n",
       "       'number_of_reviews_ltm', 'number_of_reviews_l30d', 'first_review',\n",
       "       'last_review', 'review_scores_rating', 'review_scores_accuracy',\n",
       "       'review_scores_cleanliness', 'review_scores_checkin',\n",
       "       'review_scores_communication', 'review_scores_location',\n",
       "       'review_scores_value', 'license', 'instant_bookable',\n",
       "       'calculated_host_listings_count',\n",
       "       'calculated_host_listings_count_entire_homes',\n",
       "       'calculated_host_listings_count_private_rooms',\n",
       "       'calculated_host_listings_count_shared_rooms', 'reviews_per_month',\n",
       "       'geometry', 'description_norm', 'Topic'],\n",
       "      dtype='object')"
      ]
     },
     "execution_count": 30,
     "metadata": {},
     "output_type": "execute_result"
    }
   ],
   "source": [
    "gdf_listing.columns"
   ]
  },
  {
   "cell_type": "code",
   "execution_count": 31,
   "metadata": {},
   "outputs": [
    {
     "name": "stdout",
     "output_type": "stream",
     "text": [
      "CPU times: total: 10min 48s\n",
      "Wall time: 25min 48s\n"
     ]
    }
   ],
   "source": [
    "%%time \n",
    "\n",
    "corpus      = gdf_listing.description_norm.fillna(' ').values\n",
    "#corpus_sent = [nltk.sent_tokenize(text) for text in corpus] # <-- with more formal writing this would work well\n",
    "corpus_sent = [d.replace('.',' ').split(' ') for d in corpus] # <-- deals better with many short sentences though context may end up... weird\n",
    "model       = Word2Vec(sentences=corpus_sent, vector_size=dims, window=window, epochs=200, \n",
    "                 min_count=min_v_count, seed=42, workers=1)\n",
    "\n",
    "model.save(f\"word2vec-d{dims}-w{window}.model\") # <-- You can then Word2Vec.load(...) which is useful with large corpora"
   ]
  },
  {
   "cell_type": "code",
   "execution_count": null,
   "metadata": {},
   "outputs": [],
   "source": [
    "pd.set_option('display.max_colwidth',150)\n",
    "\n",
    "df = fcounts[1] # <-- copy out only the unigrams as we haven't trained anything else\n",
    "\n",
    "n     = 14 # number of words\n",
    "topn  = 7  # number of most similar words\n",
    "\n",
    "selected_words = df[df['Ngram Size 1'] > 5].reset_index().level_0.sample(n, random_state=42).tolist()\n",
    "\n",
    "words = []\n",
    "v1    = []\n",
    "v2    = []\n",
    "v3    = []\n",
    "sims  = []\n",
    "\n",
    "for w in selected_words:\n",
    "    try: \n",
    "        vector = model.wv[w]  # get numpy vector of a word\n",
    "        #print(f\"Word vector for '{w}' starts: {vector[:5]}...\")\n",
    "    \n",
    "        sim = model.wv.most_similar(w, topn=topn)\n",
    "        #print(f\"Similar words to '{w}' include: {sim}.\")\n",
    "    \n",
    "        words.append(w)\n",
    "        v1.append(vector[0])\n",
    "        v2.append(vector[1])\n",
    "        v3.append(vector[2])\n",
    "        sims.append(\", \".join([x[0] for x in sim]))\n",
    "    except KeyError:\n",
    "        print(f\"Didn't find {w} in model. Can happen with low-frequency terms.\")\n",
    "    \n",
    "vecs = pd.DataFrame({\n",
    "    'Term':words,\n",
    "    'V1':v1, \n",
    "    'V2':v2, \n",
    "    'V3':v3,\n",
    "    f'Top {topn} Similar':sims\n",
    "})\n",
    "\n",
    "vecs"
   ]
  },
  {
   "cell_type": "code",
   "execution_count": null,
   "metadata": {},
   "outputs": [],
   "source": [
    "print(model.wv.index_to_key) # <-- the full vocabulary that has been trained"
   ]
  },
  {
   "cell_type": "markdown",
   "metadata": {},
   "source": [
    "**加入地理信息元素绘图**"
   ]
  },
  {
   "cell_type": "code",
   "execution_count": null,
   "metadata": {},
   "outputs": [],
   "source": [
    "%%capture --no-stdout\n",
    "# Transfer pandas dataframe (Airbnb_listing.csv) to geopandas geodataframe\n",
    "# By using the coordinates ()\n",
    "from shapely.geometry import Point\n",
    "\n",
    "# Create geometry column\n",
    "geometry = [Point(xy) for xy in zip(Airbnb_Listing['longitude'], Airbnb_Listing['latitude'])]\n",
    "\n",
    "# Converting to GeoDataframe\n",
    "gdf_listing = gpd.GeoDataFrame(Airbnb_Listing, geometry=geometry)\n",
    "\n",
    "# Set the CRS\n",
    "gdf_listing.set_crs(\"EPSG:4326\", inplace=True)  # (EPSG:4326)\n",
    "\n",
    "print(\"Converting successful\")\n",
    "\n",
    "\n",
    "# Drop NAs of columns ['description','amenities']\n",
    "gdf_listing = gdf_listing.dropna(subset=['description','amenities'])\n",
    "print(f\"Now gdf has {gdf_listing.shape[0]:,} rows.\")"
   ]
  },
  {
   "cell_type": "markdown",
   "metadata": {},
   "source": [
    "## 7. Drawing on your previous answers, and supporting your response with evidence (e.g. figures, maps, and statistical analysis/models), how *could* this data set be used to inform the regulation of Short-Term Lets (STL) in London?\n",
    "\n",
    "::: duedate\n",
    "( 45 points; Answer due {{< var assess.group-date >}} )\n",
    ":::\n",
    "\n",
    "## Sustainable Authorship Tools\n",
    "\n",
    "Your QMD file should automatically download your BibTeX file. We will then re-run the QMD file to generate the output successfully.\n",
    "\n",
    "Written in Markdown and generated from [Quarto](https://quarto.org/). Fonts used: [Spectral](https://fonts.google.com/specimen/Spectral) (mainfont), [Roboto](https://fonts.google.com/specimen/Roboto) ([sansfont]{style=\"font-family:Sans-Serif;\"}) and [JetBrains Mono](https://fonts.google.com/specimen/JetBrains%20Mono) (`monofont`).\n",
    "\n",
    "## References"
   ]
  }
 ],
 "metadata": {
  "kernelspec": {
   "display_name": "Python 3 (ipykernel)",
   "language": "python",
   "name": "python3"
  },
  "language_info": {
   "codemirror_mode": {
    "name": "ipython",
    "version": 3
   },
   "file_extension": ".py",
   "mimetype": "text/x-python",
   "name": "python",
   "nbconvert_exporter": "python",
   "pygments_lexer": "ipython3",
   "version": "3.11.5"
  }
 },
 "nbformat": 4,
 "nbformat_minor": 5
}
