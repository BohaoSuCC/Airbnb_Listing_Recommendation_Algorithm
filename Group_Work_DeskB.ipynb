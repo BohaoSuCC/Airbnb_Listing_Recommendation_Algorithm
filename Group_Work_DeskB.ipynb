{
 "cells": [
  {
   "cell_type": "raw",
   "id": "7601c72b",
   "metadata": {},
   "source": [
    "---\n",
    "bibliography: bio.bib\n",
    "csl: harvard-cite-them-right.csl\n",
    "title: DeskB's Group Project\n",
    "execute:\n",
    "  echo: false\n",
    "format:\n",
    "  html:\n",
    "    theme:\n",
    "      - minty\n",
    "      - css/web.scss\n",
    "    code-copy: true\n",
    "    code-link: true\n",
    "    toc: true\n",
    "    toc-title: On this page\n",
    "    toc-depth: 2\n",
    "    toc_float:\n",
    "      collapsed: false\n",
    "      smooth_scroll: true\n",
    "  pdf:\n",
    "    include-in-header:\n",
    "      text: |\n",
    "        \\addtokomafont{disposition}{\\rmfamily}\n",
    "    mainfont: Spectral\n",
    "    sansfont: Roboto\n",
    "    monofont: JetBrainsMono-Regular\n",
    "    papersize: a4\n",
    "    geometry:\n",
    "      - top=25mm\n",
    "      - left=40mm\n",
    "      - right=30mm\n",
    "      - bottom=25mm\n",
    "      - heightrounded\n",
    "    toc: false\n",
    "    number-sections: false\n",
    "    colorlinks: true\n",
    "    highlight-style: github\n",
    "---"
   ]
  },
  {
   "cell_type": "markdown",
   "id": "ff336c31",
   "metadata": {},
   "source": [
    "## Declaration of Authorship {.unnumbered .unlisted}\n",
    "\n",
    "We, \\[DeskB\\], confirm that the work presented in this assessment is our own. Where information has been derived from other sources, we confirm that this has been indicated in the work. Where a Large Language Model such as ChatGPT has been used we confirm that we have made its contribution to the final submission clear.\n",
    "\n",
    "Date: 11th December 2023\n",
    "\n",
    "Student Numbers: 20017359 23032922 23081403 23103585 23130397\n",
    "\n",
    "## Brief Group Reflection\n",
    "\n",
    "| What Went Well | What Was Challenging |\n",
    "|----------------|----------------------|\n",
    "| A              | B                    |\n",
    "| C              | D                    |\n",
    "\n",
    "## Priorities for Feedback\n",
    "\n",
    "Are there any areas on which you would appreciate more detailed feedback if we're able to offer it?\n",
    "\n",
    "\n",
    "\n",
    "```{=html}\n",
    "<style type=\"text/css\">\n",
    ".duedate {\n",
    "  border: dotted 2px red; \n",
    "  background-color: rgb(255, 235, 235);\n",
    "  height: 50px;\n",
    "  line-height: 50px;\n",
    "  margin-left: 40px;\n",
    "  margin-right: 40px\n",
    "  margin-top: 10px;\n",
    "  margin-bottom: 10px;\n",
    "  color: rgb(150,100,100);\n",
    "  text-align: center;\n",
    "}\n",
    "</style>\n",
    "```\n",
    "\n",
    "{{< pagebreak >}}\n",
    "\n",
    "\n",
    "\n",
    "\n",
    "\n",
    "# Response to Questions\n"
   ]
  },
  {
   "cell_type": "markdown",
   "metadata": {},
   "source": [
    "**Import all packages**"
   ]
  },
  {
   "cell_type": "code",
   "execution_count": 156,
   "id": "9395ad65",
   "metadata": {},
   "outputs": [],
   "source": [
    "import os\n",
    "import spacy\n",
    "import pandas as pd\n",
    "import numpy as np\n",
    "import geopandas as gpd\n",
    "import re\n",
    "import math\n",
    "import string\n",
    "import unicodedata\n",
    "import gensim\n",
    "import matplotlib.pyplot as plt\n",
    "import nltk\n",
    "import seaborn as sns\n",
    "from joblib import dump\n",
    "from joblib import load\n",
    "import contextily as ctx\n",
    "\n",
    "from scipy.spatial.distance import cdist\n",
    "\n",
    "from shapely.geometry import Point\n",
    "\n",
    "from sklearn.preprocessing import OneHotEncoder  # We don't use this but I point out where you *could*\n",
    "from sklearn.feature_extraction.text import TfidfVectorizer\n",
    "from sklearn.feature_extraction.text import CountVectorizer\n",
    "from sklearn.decomposition import LatentDirichletAllocation\n",
    "from sklearn.model_selection import train_test_split\n",
    "from sklearn.ensemble import RandomForestClassifier\n",
    "from sklearn.metrics import accuracy_score\n",
    "from sklearn.svm import SVC\n",
    "\n",
    "\n",
    "from nltk.corpus import wordnet\n",
    "from nltk.stem.wordnet import WordNetLemmatizer\n",
    "from nltk.corpus import stopwords\n",
    "from nltk.tokenize import word_tokenize, sent_tokenize\n",
    "from nltk.tokenize.toktok import ToktokTokenizer\n",
    "from nltk.stem.porter import PorterStemmer\n",
    "from nltk.stem.snowball import SnowballStemmer\n",
    "from nltk import ngrams, FreqDist\n",
    "\n",
    "from gensim.models.coherencemodel import CoherenceModel\n",
    "from gensim.corpora.dictionary import Dictionary\n",
    "from gensim.matutils import Sparse2Corpus\n",
    "from gensim.matutils import corpus2dense\n",
    "from gensim.models import tfidfmodel\n",
    "from gensim.models import Word2Vec\n",
    "from gensim.models import TfidfModel\n",
    "from gensim.models import KeyedVectors\n",
    "from gensim.models.ldamodel import LdaModel\n",
    "\n",
    "from bs4 import BeautifulSoup\n",
    "from wordcloud import WordCloud, STOPWORDS\n",
    "\n",
    "\n",
    "# Import everthing from textual/__init__.py\n",
    "# Including bunch of tools and functions we could use for NLP \n",
    "from textual import *"
   ]
  },
  {
   "cell_type": "code",
   "execution_count": 2,
   "metadata": {},
   "outputs": [],
   "source": [
    "lemmatizer = WordNetLemmatizer()\n",
    "tokenizer = ToktokTokenizer()"
   ]
  },
  {
   "cell_type": "code",
   "execution_count": 3,
   "metadata": {},
   "outputs": [
    {
     "data": {
      "text/markdown": [
       "##### Result!\n",
       "\n",
       ">Here's my output...\n"
      ]
     },
     "metadata": {},
     "output_type": "display_data"
    }
   ],
   "source": [
    "# Some Configuration allowing us to output Markdown (like this cell) instead of plain text\n",
    "from IPython.display import display_markdown\n",
    "\n",
    "def as_markdown(head='', body='Some body text'):\n",
    "    if head != '':\n",
    "        display_markdown(f\"##### {head}\\n\\n>{body}\\n\", raw=True)\n",
    "    else:\n",
    "        display_markdown(f\">{body}\\n\", raw=True)\n",
    "\n",
    "as_markdown('Result!', \"Here's my output...\")"
   ]
  },
  {
   "cell_type": "markdown",
   "metadata": {},
   "source": [
    "**Loading the Data**"
   ]
  },
  {
   "cell_type": "code",
   "execution_count": 4,
   "id": "acc8fc9d",
   "metadata": {},
   "outputs": [],
   "source": [
    "# Download and read the csv file remotely from url\n",
    "host = 'http://data.insideairbnb.com'\n",
    "path = 'united-kingdom/england/london/2023-09-06/data'\n",
    "file = 'listings.csv.gz'\n",
    "url  = f'{host}/{path}/{file}'\n",
    "\n",
    "# Save csv file\n",
    "if os.path.exists(file):\n",
    "  Airbnb_Listing = pd.read_csv(file, compression='gzip', low_memory=False)\n",
    "else: \n",
    "  Airbnb_Listing = pd.read_csv(url, compression='gzip', low_memory=False)\n",
    "  Airbnb_Listing.to_csv(file)\n",
    "\n",
    "# Download and read the gpkg file remotel from url\n",
    "host = 'https://data.london.gov.uk'\n",
    "path = 'download/london_boroughs/9502cdec-5df0-46e3-8aa1-2b5c5233a31f'\n",
    "file = 'London_Boroughs.gpkg'\n",
    "url  = f'{host}/{path}/{file}'\n",
    "\n",
    "# Save gkpg file\n",
    "if os.path.exists(file):\n",
    "  London_boroughs = gpd.read_file(file, compression='gzip', low_memory=False)\n",
    "else: \n",
    "  London_boroughs = gpd.read_file(url, compression='gzip', low_memory=False)\n",
    "  London_boroughs.to_file(file, driver='GPKG')\n"
   ]
  },
  {
   "cell_type": "markdown",
   "id": "4e05b736",
   "metadata": {},
   "source": [
    "## 1. Who collected the data? ( 2 points; Answer due Week 7 )\n",
    "\n",
    "::: 1.[\\*listings.csv](http://data.insideairbnb.com/united-kingdom/england/london/2023-09-06/data/listings.csv.gz) : This dataset was created by automatically scraping public information from Airbnb's Website. Murray Cox was one of the main founder and technicians of this mission driven project that aims to provide data and advocacy about Airbnb's impact on residential communities. [\\[1\\]]((http://insideairbnb.com/about))\n",
    "\n",
    "2.[\\*London_Boroughs.gpkg](https://data.london.gov.uk/download/london_boroughs/9502cdec-5df0-46e3-8aa1-2b5c5233a31f/London_Boroughs.gpkg) and [London-wards-2018](https://data.london.gov.uk/download/statistical-gis-boundary-files-london/08d31995-dd27-423c-a987-57fe8e952990/London-wards-2018.zip) : This dataset is an extract from [Ordnance Survey](https://www.ordnancesurvey.co.uk/) Boundary-Line product which is a specialist 1:10 000 scale boundaries dataset.\n",
    "\n",
    ":::\n",
    "\n",
    "An inline citation: As discussed on @insideairbnb, there are many...\n",
    "\n",
    "A parenthetical citation: There are many ways to research Airbnb [see, for example, @insideairbnb]...\n",
    "\n",
    "## 2. Why did they collect it? ( 4 points; Answer due Week 7 )\n",
    "\n",
    ":::\n",
    "\n",
    "1.[\\*listings.csv](http://data.insideairbnb.com/united-kingdom/england/london/2023-09-06/data/listings.csv.gz) : Inside Airbnb is a mission driven project that provides data and advocacy about Airbnb's impact on residential communities. We work towards a vision where communities are empowered with data and information to understand, decide and control the role of renting residential homes to tourists.\n",
    "\n",
    "2.[\\*London_Boroughs.gpkg](https://data.london.gov.uk/download/london_boroughs/9502cdec-5df0-46e3-8aa1-2b5c5233a31f/London_Boroughs.gpkg) : With a long history and evolving from . The Ordnance Survey aims to help governments make smarter decisions that ensure our safety and security, they also show businesses how to gain a location data edge and we help everyone experience the benefits of the world outside. Under the [Public Sector Geospatial Agreement](https://www.ordnancesurvey.co.uk/customers/public-sector/public-sector-geospatial-agreement) (PSGA), Ordnance Survey (OS) provides Great Britain' national mapping services. OS creates, maintains and provides access to consistent, definitive and authoritative location data of Great Britain, aiming to help organisations to maximise the use, value and benefit of the data for the national interest and the public good. :::\n"
   ]
  },
  {
   "cell_type": "markdown",
   "metadata": {},
   "source": [
    "**Size of Data**"
   ]
  },
  {
   "cell_type": "code",
   "execution_count": 5,
   "id": "9c9b5919",
   "metadata": {},
   "outputs": [
    {
     "name": "stdout",
     "output_type": "stream",
     "text": [
      "Data frame is 87,946 x 75\n"
     ]
    }
   ],
   "source": [
    "print(f\"Data frame is {Airbnb_Listing.shape[0]:,} x {Airbnb_Listing.shape[1]:,}\")\n",
    "#print(Airbnb_Listing.columns)"
   ]
  },
  {
   "cell_type": "markdown",
   "id": "695144d0",
   "metadata": {},
   "source": [
    "## 3. How was the data collected? ( 5 points; Answer due Week 8 )\n",
    "\n",
    "::: 1.[\\*listings.csv](http://data.insideairbnb.com/united-kingdom/england/london/2023-09-06/data/listings.csv.gz) : Inside Airbnb collects its data primarily by scraping information from the Airbnb website. This process involves the following steps:\n",
    "\n",
    "**i.Web Scraping**: Inside Airbnb uses automated scripts to systematically browse and extract data from Airbnb's listings. These scripts navigate the website just like a human user would, but they do it much faster and on a larger scale.\n",
    "\n",
    "**ii.Data Extraction**: Information about each listing, such as location, price, availability, number of bedrooms, reviews, and host details, is extracted and compiled.\n",
    "\n",
    "**iii.Data Aggregation**: The collected data is then aggregated into a database. This database is organized to make it easier to analyze trends, patterns, and insights related to Airbnb's offerings in various cities and regions.\n",
    "\n",
    "**iv.Regular Updates**: The scraping process is repeated periodically to keep the database current, capturing new listings and updates to existing ones.\n",
    "\n",
    "**v.Public Accessibility**: The aggregated data is often made available to the public through the Inside Airbnb website, enabling researchers, policymakers, and the general public to analyze Airbnb's impact on housing markets and communities. It's important to note that web scraping practices, like those used by Inside Airbnb, may face legal and ethical considerations depending on the website's terms of service and regional laws regarding data privacy and usage.\n",
    "\n",
    "2.[\\*London_Boroughs.gpkg](https://data.london.gov.uk/download/london_boroughs/9502cdec-5df0-46e3-8aa1-2b5c5233a31f/London_Boroughs.gpkg) : \"Boundary-Line for England and Wales was initially digitised from Ordnance Survey's boundary record sheets at 1:10 000 scale (or, in some cases, at larger scales). The Government Statistical Service (GSS) codes are supplied by the Office for National Statistics and General Register Office for Scotland(GROS). GIS software provides the functionality to store, manage and manipulate this digital map data. The properties of the data make it suitable as a key base for users wishing to develop applications. BoundaryLine is also suitable for use within other digital mapping systems. It's coordinated on the National Grid which allows for the easy superimposition of other data. :::\n"
   ]
  },
  {
   "cell_type": "code",
   "execution_count": 6,
   "id": "c406d01d",
   "metadata": {},
   "outputs": [],
   "source": [
    "#print(Airbnb_Listing.info())"
   ]
  },
  {
   "cell_type": "markdown",
   "metadata": {},
   "source": [
    "## 4. How does the method of collection impact the completeness and/or accuracy of its representation of the process it seeks to study, and what wider issues does this raise?\n",
    "\n",
    "::: duedate\n",
    "( 11 points; Answer due Week 9 )\n",
    ":::"
   ]
  },
  {
   "cell_type": "code",
   "execution_count": 7,
   "metadata": {},
   "outputs": [
    {
     "name": "stdout",
     "output_type": "stream",
     "text": [
      "87946\n"
     ]
    }
   ],
   "source": [
    "# Check NAs 检查缺失值（缺失值会如何影响\n",
    "print(Airbnb_Listing['bathrooms'].isna().sum())\n"
   ]
  },
  {
   "cell_type": "markdown",
   "metadata": {},
   "source": [
    "## 5. What ethical considerations does the use of this data raise?\n",
    "\n",
    "::: duedate\n",
    "( 18 points; Answer due {{< var assess.group-date >}} )\n",
    ":::"
   ]
  },
  {
   "cell_type": "markdown",
   "id": "ec2f7f16",
   "metadata": {},
   "source": [
    "## 6. With reference to the data (*i.e.* using numbers, figures, maps, and descriptive statistics), what does an analysis of Hosts and Listing types suggest about the nature of Airbnb lets in London?"
   ]
  },
  {
   "cell_type": "markdown",
   "metadata": {},
   "source": [
    "::: duedate\n",
    "( 15 points; Answer due {{< var assess.group-date >}} )\n",
    ":::"
   ]
  },
  {
   "cell_type": "markdown",
   "metadata": {},
   "source": [
    "**数据基础处理**"
   ]
  },
  {
   "cell_type": "code",
   "execution_count": 6,
   "metadata": {},
   "outputs": [
    {
     "name": "stdout",
     "output_type": "stream",
     "text": [
      "nltk.download successful\n"
     ]
    },
    {
     "name": "stderr",
     "output_type": "stream",
     "text": [
      "[nltk_data] Downloading package wordnet to\n",
      "[nltk_data]     C:\\Users\\SBH\\AppData\\Roaming\\nltk_data...\n",
      "[nltk_data]   Package wordnet is already up-to-date!\n",
      "[nltk_data] Downloading package averaged_perceptron_tagger to\n",
      "[nltk_data]     C:\\Users\\SBH\\AppData\\Roaming\\nltk_data...\n",
      "[nltk_data]   Package averaged_perceptron_tagger is already up-to-\n",
      "[nltk_data]       date!\n",
      "[nltk_data] Downloading package stopwords to\n",
      "[nltk_data]     C:\\Users\\SBH\\AppData\\Roaming\\nltk_data...\n",
      "[nltk_data]   Package stopwords is already up-to-date!\n"
     ]
    }
   ],
   "source": [
    "%%capture --no-stdout\n",
    "# Prepare for necessary nltk packages\n",
    "nltk.download('wordnet') # <-- These are done in a supporting tool, but in your own\n",
    "nltk.download('averaged_perceptron_tagger') # application you'd need to import them\n",
    "nltk.download('stopwords')\n",
    "stopword_list = set(stopwords.words('english'))\n",
    "print(\"nltk.download successful\")"
   ]
  },
  {
   "cell_type": "markdown",
   "metadata": {},
   "source": [
    "**选出有用的columns**"
   ]
  },
  {
   "cell_type": "code",
   "execution_count": 9,
   "metadata": {},
   "outputs": [],
   "source": [
    "Airbnb_Listing.columns\n",
    "remained_columns = ['id','description','neighbourhood_cleansed','latitude','longitude',\n",
    "                    'room_type','amenities','price','number_of_reviews',\n",
    "                    'review_scores_rating', 'review_scores_accuracy','review_scores_cleanliness', \n",
    "                    'review_scores_checkin','review_scores_communication', 'review_scores_location','review_scores_value',\n",
    "                    'reviews_per_month']\n",
    "Airbnb_Listing = Airbnb_Listing[remained_columns]\n"
   ]
  },
  {
   "cell_type": "code",
   "execution_count": 7,
   "metadata": {},
   "outputs": [],
   "source": [
    "# import relating operating tools to normalise 'description' and 'amenities' from Jon Reades codes\n",
    "\n",
    "import urllib.request\n",
    "host  = 'https://orca.casa.ucl.ac.uk'\n",
    "turl  = f'{host}/~jreades/__textual__.py'\n",
    "tdirs = os.path.join('textual')\n",
    "tpath = os.path.join(tdirs,'__init__.py')\n",
    "\n",
    "if not os.path.exists(tpath):\n",
    "    os.makedirs(tdirs, exist_ok=True)\n",
    "    urllib.request.urlretrieve(turl, tpath)"
   ]
  },
  {
   "cell_type": "code",
   "execution_count": 8,
   "metadata": {},
   "outputs": [],
   "source": [
    "# This allows us to edit and reload the library\n",
    "%load_ext autoreload\n",
    "%autoreload 2"
   ]
  },
  {
   "cell_type": "code",
   "execution_count": 9,
   "metadata": {},
   "outputs": [
    {
     "name": "stdout",
     "output_type": "stream",
     "text": [
      "Now gdf has 86,679 rows.\n"
     ]
    }
   ],
   "source": [
    "# Drop NAs of columns ['description','amenities']\n",
    "Airbnb_Listing = Airbnb_Listing.dropna(subset=['description','amenities'])\n",
    "print(f\"Now gdf has {Airbnb_Listing.shape[0]:,} rows.\")"
   ]
  },
  {
   "cell_type": "markdown",
   "metadata": {},
   "source": [
    "**Trying to normalise ['description','amenities']**"
   ]
  },
  {
   "cell_type": "markdown",
   "metadata": {},
   "source": [
    "codes below should be operated only once, run it again only if updating needed"
   ]
  },
  {
   "cell_type": "code",
   "execution_count": null,
   "metadata": {},
   "outputs": [],
   "source": [
    "\"\"\"\n",
    "%%time \n",
    "# I get about 21 minutes \n",
    "Airbnb_Listing['description_norm'] = Airbnb_Listing['description'].apply(normalise_document, remove_digits=True)\n",
    "\"\"\""
   ]
  },
  {
   "cell_type": "code",
   "execution_count": null,
   "metadata": {},
   "outputs": [],
   "source": [
    "\"\"\"\n",
    "%%time \n",
    "# Codes below should be operated only once, run it again only if undating needed\n",
    "\n",
    "# I get about 21 minutes \n",
    "Airbnb_Listing['amenities_norm'] = Airbnb_Listing['amenities'].apply(normalise_document, remove_digits=True)\n",
    "\"\"\""
   ]
  },
  {
   "cell_type": "code",
   "execution_count": 32,
   "metadata": {},
   "outputs": [],
   "source": [
    "# Codes below should be operated only once, run it again only if undating needed\n",
    "# Airbnb_Listing.to_csv('./Data/Airbnb_Listing_norm.csv', index=True)"
   ]
  },
  {
   "cell_type": "markdown",
   "metadata": {},
   "source": [
    "**Pre-Processing finished**"
   ]
  },
  {
   "cell_type": "markdown",
   "metadata": {},
   "source": [
    "**Read the new csvfile**"
   ]
  },
  {
   "cell_type": "code",
   "execution_count": 10,
   "metadata": {},
   "outputs": [],
   "source": [
    "import pandas as pd\n",
    "#Read the normed csv\n",
    "Airbnb_Listing = pd.read_csv(\"./Data/Airbnb_Listing_norm.csv\")"
   ]
  },
  {
   "cell_type": "code",
   "execution_count": 11,
   "metadata": {},
   "outputs": [],
   "source": [
    "# Select the Corpus\n",
    "corpus = Airbnb_Listing['description_norm'].fillna(' ').values\n",
    "\n",
    "# sentences is lists of lists to divide every 'description' into many sentences.\n",
    "# word is lists of lists to transfer sentences info individual word\n",
    "sentences = [nltk.sent_tokenize(text) for text in corpus]\n",
    "words     = [[nltk.tokenize.word_tokenize(sentence) \n",
    "                  for sentence in nltk.sent_tokenize(text)] \n",
    "                  for text in corpus]\n"
   ]
  },
  {
   "cell_type": "markdown",
   "metadata": {},
   "source": [
    "**向stopwords中加入额外不想要的词**"
   ]
  },
  {
   "cell_type": "code",
   "execution_count": null,
   "metadata": {},
   "outputs": [],
   "source": [
    "stopwords_extra = ['would','able']"
   ]
  },
  {
   "cell_type": "markdown",
   "metadata": {},
   "source": [
    "**Latent Dirchlet Allocation**"
   ]
  },
  {
   "cell_type": "markdown",
   "metadata": {},
   "source": [
    "使用TF-IDF模型进行向量化"
   ]
  },
  {
   "cell_type": "code",
   "execution_count": 22,
   "metadata": {},
   "outputs": [
    {
     "name": "stdout",
     "output_type": "stream",
     "text": [
      "TF/IDF data frame has 87,946 rows and 2,320 columns.\n"
     ]
    }
   ],
   "source": [
    "# Fit and Transform\n",
    "tfvectorizer = TfidfVectorizer(use_idf=True, ngram_range=(1,4), \n",
    "                               max_df=0.3, min_df=0.005,stop_words='english') # modify these parameter to improve the model\n",
    "tfidf_corpus = tfvectorizer.fit_transform(corpus) # TF-transformed corpus\n",
    "\n",
    "\"\"\"\n",
    "# Single Document\n",
    "# 创建了一个DataFrame，显示第一个文档（tftcorpus[0]）的TF-IDF权重。\n",
    "doc_df = pd.DataFrame(tftcorpus[0].T.todense(), index=tfvectorizer.get_feature_names_out(), columns=[\"Weights\"])\n",
    "# 对这些权重进行排序，显示权重最高的前10个词。\n",
    "doc_df.sort_values('Weights', ascending=False).head(10)\n",
    "\"\"\"\n",
    "\n",
    "# Transformed corpus\n",
    "# 将整个TF-IDF转换后的语料库转换为DataFrame格式 \n",
    "tfidf_dataframe = pd.DataFrame(data=tfidf_corpus.toarray(),\n",
    "                        columns=tfvectorizer.get_feature_names_out())#将稀疏矩阵转换为密集矩阵，并使用相同的特征名称作为列名。\n",
    "print(f\"TF/IDF data frame has {tfidf_dataframe.shape[0]:,} rows and {tfidf_dataframe.shape[1]:,} columns.\")#打印DataFrame的行数和列数，即文档数和特征数。\n"
   ]
  },
  {
   "cell_type": "markdown",
   "metadata": {},
   "source": [
    "构建和训练LDA模型\n",
    "\n",
    "接着，构建LDA模型并用预处理后的数据进行训练。"
   ]
  },
  {
   "cell_type": "code",
   "execution_count": 23,
   "metadata": {},
   "outputs": [
    {
     "name": "stdout",
     "output_type": "stream",
     "text": [
      "Optimal number of topics: 16\n"
     ]
    }
   ],
   "source": [
    "# 确定n_components参数\n",
    "\n",
    "\n",
    "# 准备Gensim所需的数据结构\n",
    "texts = [doc.split() for doc in corpus]                 #分词\n",
    "dictionary = Dictionary(texts)                          #每个词创建唯一值字典\n",
    "bow_corpus = [dictionary.doc2bow(text) for text in texts]\n",
    "#将其转换为TFIDF模型\n",
    "tfidf_model = TfidfModel(bow_corpus)\n",
    "tfidf_corpus = [tfidf_model[doc] for doc in bow_corpus]\n",
    "\n",
    "\"\"\"\n",
    "# 您需要将Gensim的TF-IDF语料库转换为scikit-learn可以处理的格式。\n",
    "# 通常，这涉及到将Gensim生成的稀疏表示转换为一个密集的NumPy数组或者一个稀疏矩阵。\n",
    "num_terms = len(dictionary)\n",
    "num_docs = len(tfidf_corpus)\n",
    "tfidf_sparse = corpus2dense(tfidf_corpus,num_docs=num_docs,num_terms=num_terms).T\n",
    "\"\"\"\n",
    "\n",
    "# 测试不同的主题数\n",
    "coherence_values = []\n",
    "\n",
    "for n_topics in range(1, 41):\n",
    "    LDA = LdaModel(corpus=tfidf_corpus, id2word=dictionary, num_topics=n_topics, random_state=42,iterations=800)\n",
    "    CM = CoherenceModel(model=LDA, texts=texts, dictionary=dictionary, coherence='c_v')\n",
    "    coherence_values.append(CM.get_coherence())\n",
    "\n",
    "\n",
    "# 选择最佳主题数\n",
    "optimal_topics = np.argmax(coherence_values) + 1  # 加1因为索引从0开始\n",
    "print(f\"Optimal number of topics: {optimal_topics}\")\n"
   ]
  },
  {
   "cell_type": "code",
   "execution_count": 25,
   "metadata": {},
   "outputs": [],
   "source": [
    "# 保存不同主题的coherence值，\n",
    "# coherence得分一般在0-1之间，\n",
    "# 一般超过0.5被认为模型拟合较好\n",
    "\n",
    "\n",
    "# 创建包含主题数和一致性得分的DataFrame\n",
    "LDA_topic_coherence_data = {'Topic_Num': range(1, len(coherence_values) + 1), 'Coherence_Score': coherence_values}\n",
    "LDA_topic_coherence_frame = pd.DataFrame(LDA_topic_coherence_data)\n",
    "# 保存为CSV文件\n",
    "LDA_topic_coherence_frame.to_csv(\"./Data/coherence_values.csv\", index=False)\n",
    "\n"
   ]
  },
  {
   "cell_type": "code",
   "execution_count": 26,
   "metadata": {},
   "outputs": [],
   "source": [
    "# 读取不同主题的coherence值,csv文件\n",
    "LDA_topic_coherence_frame = pd.read_csv(\"./Data/coherence_values.csv\")"
   ]
  },
  {
   "cell_type": "code",
   "execution_count": 154,
   "metadata": {},
   "outputs": [
    {
     "data": {
      "image/png": "[encoded data removed]",
      "text/plain": [
       "<Figure size 1000x600 with 1 Axes>"
      ]
     },
     "metadata": {},
     "output_type": "display_data"
    }
   ],
   "source": [
    "# 主题数量\n",
    "num_topics = len(LDA_topic_coherence_frame)\n",
    "# 绘制折线图\n",
    "plt.figure(figsize=(10, 6))\n",
    "plt.plot(LDA_topic_coherence_frame['Topic_Num'], LDA_topic_coherence_frame['Coherence_Score'], marker='o')\n",
    "plt.title('Coherence Scores across Different Numbers of Topics')\n",
    "plt.xlabel('Number of Topics')\n",
    "plt.ylabel('Coherence Score')\n",
    "plt.grid(True)\n",
    "# 为每个数据点添加标注\n",
    "for x, y in zip(LDA_topic_coherence_frame['Topic_Num'], LDA_topic_coherence_frame['Coherence_Score']):\n",
    "    plt.annotate(f'{y:.3f}',  # 这里是要显示的文本，即y值\n",
    "                 (x, y),  # 这是要标注的点的坐标\n",
    "                 textcoords=\"offset points\",  # 指定标注的位置方式\n",
    "                 xytext=(0,5),  # 指定标注文本的偏移量\n",
    "                 ha='center')  # 水平居中对齐文本\n",
    "plt.show()"
   ]
  },
  {
   "cell_type": "markdown",
   "metadata": {},
   "source": [
    "将主题分配给文档\n",
    "\n",
    "对每个文档（房源描述）分配一个主题。"
   ]
  },
  {
   "cell_type": "code",
   "execution_count": 139,
   "metadata": {},
   "outputs": [],
   "source": [
    "# 设置LDA模型\n",
    "LDA = LdaModel(corpus=tfidf_corpus, id2word=dictionary, num_topics=LDA_topic_coherence_frame.loc[LDA_topic_coherence_frame['Coherence_Score'].idxmax(),'Topic_Num'], random_state=42,iterations=800)\n",
    "# 对每个文档获取主题分布\n",
    "doc_topics = [LDA.get_document_topics(bow) for bow in tfidf_corpus]\n",
    "\n",
    "# 获取每个主题的主要词汇\n",
    "topics = LDA.print_topics(num_words=40)\n"
   ]
  },
  {
   "cell_type": "markdown",
   "metadata": {},
   "source": [
    "查看主题和关键词\n",
    "\n",
    "查看模型找出的主题和每个主题的关键词。"
   ]
  },
  {
   "cell_type": "code",
   "execution_count": 142,
   "metadata": {},
   "outputs": [],
   "source": [
    "# 获取每个主题的主题词及其权重\n",
    "topics = LDA.show_topics(num_topics=16, num_words=20, formatted=False)\n",
    "\n",
    "# 创建一个list保存每个主题的主题词及权重\n",
    "LDA_topics_data = []\n",
    "\n",
    "for topic_num, topic_words in topics:\n",
    "    for word, weight in topic_words:\n",
    "        LDA_topics_data.append({'Topic': topic_num, 'Word': word, 'Weight': weight})\n",
    "\n",
    "# 转换为DataFrame\n",
    "LDA_topics_frame = pd.DataFrame(LDA_topics_data)\n",
    "\n",
    "# 保存这个模型生成的主题结果\n",
    "LDA_topics_frame.to_csv(os.path.join(\"Data\",\"lda_topics_and_words.csv\"), index=False)\n"
   ]
  },
  {
   "cell_type": "code",
   "execution_count": 143,
   "metadata": {},
   "outputs": [],
   "source": [
    "# 读取先前保存的LDA 模型生成主题结果\n",
    "LDA_topics_and_words_frame = pd.read_csv(os.path.join(\"Data\",\"lda_topics_and_words.csv\"))"
   ]
  },
  {
   "cell_type": "markdown",
   "metadata": {},
   "source": [
    "将doc_topic转换为dataframe，每个文档（listing）的主题分布及其占比"
   ]
  },
  {
   "cell_type": "code",
   "execution_count": 67,
   "metadata": {},
   "outputs": [],
   "source": [
    "listing_lda_topic = pd.DataFrame(doc_topics)\n",
    "#循环遍历每一行\n",
    "for i in range(len(listing_lda_topic)):\n",
    "    temp_list = listing_lda_topic.iloc[i].dropna()\n",
    "    # 创建一个全为0的序列，用于替换当前行\n",
    "    zero_series = pd.Series([0.0] * len(listing_lda_topic.columns), index=listing_lda_topic.columns)\n",
    "    listing_lda_topic.iloc[i] = zero_series\n",
    "    for j in temp_list.index:\n",
    "        # 从原始序列中获取列名和值\n",
    "        col = temp_list[j][0] if isinstance(temp_list[j], (list, tuple)) else j\n",
    "        value = temp_list[j][1] if isinstance(temp_list[j], (list, tuple)) else temp_list[j]\n",
    "        # 更新DataFrame\n",
    "        listing_lda_topic.at[i, col] = value\n"
   ]
  },
  {
   "cell_type": "markdown",
   "metadata": {},
   "source": [
    "保存lda模型后每个房源的主题分布及占比"
   ]
  },
  {
   "cell_type": "code",
   "execution_count": 144,
   "metadata": {},
   "outputs": [],
   "source": [
    "listing_lda_topic.to_csv(os.path.join(\"Data\",\"listing_lda_topic.csv\"))"
   ]
  },
  {
   "cell_type": "markdown",
   "metadata": {},
   "source": [
    "读取每个房源的主题占比csv文件"
   ]
  },
  {
   "cell_type": "code",
   "execution_count": 145,
   "metadata": {},
   "outputs": [],
   "source": [
    "listing_lda_topic = pd.read_csv(os.path.join(\"Data\",\"listing_lda_topic.csv\"))"
   ]
  },
  {
   "cell_type": "markdown",
   "metadata": {},
   "source": [
    "# 用word2vec模型处理amenities列"
   ]
  },
  {
   "cell_type": "markdown",
   "metadata": {},
   "source": [
    "**Word 2 Vec**"
   ]
  },
  {
   "cell_type": "code",
   "execution_count": 86,
   "metadata": {},
   "outputs": [
    {
     "data": {
      "text/plain": [
       "'[\"Window guards\", \"Bathtub\", \"Hot water kettle\", \"Laundromat nearby\", \"Indoor fireplace\", \"Microwave\", \"Coffee maker\", \"Self check-in\", \"Dining table\", \"Bed linens\", \"Books and reading material\", \"Cleaning available during stay\", \"Clothing storage: closet and dresser\", \"Coffee\", \"Hot water\", \"Iron\", \"First aid kit\", \"Lockbox\", \"Safe\", \"Garden view\", \"Paid parking off premises\", \"Wine glasses\", \"Washer\", \"Portable fans\", \"Cooking basics\", \"Heating\", \"Dishwasher\", \"Drying rack for clothing\", \"TV with standard cable\", \"Freezer\", \"Oven\", \"Refrigerator\", \"Baking sheet\", \"Body soap\", \"Hair dryer\", \"Essentials\", \"Private entrance\", \"Long term stays allowed\", \"Stove\", \"Carbon monoxide alarm\", \"Toaster\", \"Cleaning products\", \"Extra pillows and blankets\", \"Wifi \\\\u2013 37 Mbps\", \"Dishes and silverware\", \"Smoke alarm\", \"Kitchen\", \"Hangers\"]'"
      ]
     },
     "execution_count": 86,
     "metadata": {},
     "output_type": "execute_result"
    }
   ],
   "source": [
    "Airbnb_Listing['amenities'][1]"
   ]
  },
  {
   "cell_type": "code",
   "execution_count": 118,
   "metadata": {},
   "outputs": [],
   "source": [
    "# 假设 `texts` 是你的分词后的文本数据（每个文本为词的列表）\n",
    "texts_word2vec = Airbnb_Listing['amenities']  # 你的分词数据\n",
    "\n",
    "# 训练Word2Vec模型\n",
    "model = Word2Vec(sentences=texts_word2vec, vector_size=200, window=10, min_count=1, workers=4)\n"
   ]
  },
  {
   "cell_type": "markdown",
   "metadata": {},
   "source": [
    "分词处理：您使用的是 text.split(\" \") 来分词。这意味着您假设文本中的每个单词之间由两个空格分隔。请确保这与您的数据格式一致。如果是普通英文文本，通常单词之间只有一个空格，那么应该使用 text.split()。\n",
    "\n",
    "空文档处理：在 document_vector 函数中，如果文档中所有的词都不在模型的词汇表中，那么 word2vec_model.wv[doc] 将是一个空列表，这会导致 np.mean 报错。您需要处理这种情况。\n",
    "\n",
    "文档向量计算：当您计算文档向量时，您使用的是 np.array([document_vector(model, doc) for doc in texts])。这里 texts 应该是分词后的文本数据。请确保 texts 和 texts_word2vec 是一致的，即 texts 应该是用于训练 Word2Vec 模型的相同数据。\n",
    "\n",
    "标签和特征数据：确保 labels 是与 doc_vectors 对应的目标变量数组。labels 应该有与 doc_vectors 相同数量的元素。\n",
    "\n",
    "模型性能评估：在最后，您计算了准确率，这是评估分类模型性能的一个常用指标。根据您的应用情况，可能还需要考虑其他指标，如精确率、召回率和F1分数。\n",
    "\n",
    "异常和错误处理：在实际应用中，建议添加异常处理和错误检查，确保代码的健壮性。"
   ]
  },
  {
   "cell_type": "code",
   "execution_count": 119,
   "metadata": {},
   "outputs": [
    {
     "name": "stderr",
     "output_type": "stream",
     "text": [
      "C:\\Users\\SBH\\AppData\\Local\\Temp\\ipykernel_29876\\3764213159.py:1: DtypeWarning: Columns (68) have mixed types. Specify dtype option on import or set low_memory=False.\n",
      "  Airbnb_Listing_origin = pd.read_csv(\"./Data/Data_InsideAirbnb/listings.csv.gz\")\n"
     ]
    }
   ],
   "source": [
    "Airbnb_Listing_origin = pd.read_csv(\"./Data/Data_InsideAirbnb/listings.csv.gz\")"
   ]
  },
  {
   "cell_type": "markdown",
   "metadata": {},
   "source": [
    "计算所有listing的average income"
   ]
  },
  {
   "cell_type": "code",
   "execution_count": 121,
   "metadata": {},
   "outputs": [
    {
     "data": {
      "text/plain": [
       "7194.986408705343"
      ]
     },
     "execution_count": 121,
     "metadata": {},
     "output_type": "execute_result"
    }
   ],
   "source": [
    "# 每个listing的收入与average收入相比\n",
    "if Airbnb_Listing_origin['price'].dtype == 'object':\n",
    "    Airbnb_Listing_origin['price'] = Airbnb_Listing_origin['price'].str.replace('$', '').str.replace(',', '').astype(float)\n",
    "Airbnb_Listing['sum_income'] = Airbnb_Listing_origin['minimum_nights']*2.7*Airbnb_Listing_origin['number_of_reviews_ltm']*Airbnb_Listing_origin['price']\n",
    "\n",
    "average_income_forlisting = Airbnb_Listing['sum_income'].mean()\n",
    "average_income_forlisting"
   ]
  },
  {
   "cell_type": "code",
   "execution_count": 122,
   "metadata": {},
   "outputs": [],
   "source": [
    "Airbnb_Listing['profitable'] = (Airbnb_Listing['sum_income'] >= average_income_forlisting).astype(int)"
   ]
  },
  {
   "cell_type": "code",
   "execution_count": 155,
   "metadata": {},
   "outputs": [],
   "source": [
    "# 转换文本向量\n",
    "def document_vector(word2vec_model, doc):\n",
    "    # 移除不在词汇表中的词\n",
    "    doc = [word for word in doc if word in word2vec_model.wv.key_to_index]\n",
    "    # 处理空文档的情况\n",
    "    if len(doc) == 0:\n",
    "        return np.zeros(word2vec_model.vector_size)\n",
    "    # 计算均值向量\n",
    "    return np.mean(word2vec_model.wv[doc], axis=0)\n",
    "\n",
    "# 为每个文档计算向量\n",
    "doc_vectors = np.array([document_vector(model, doc) for doc in texts])"
   ]
  },
  {
   "cell_type": "code",
   "execution_count": null,
   "metadata": {},
   "outputs": [],
   "source": [
    "# 随机森林方法\n",
    "\n",
    "#使用任何类型的分类器来预测是否income超过平均值\n",
    "# 划分训练集和测试集\n",
    "X_train, X_test, y_train, y_test = train_test_split(doc_vectors, Airbnb_Listing['profitable'], test_size=0.2, random_state=42)\n",
    "\n",
    "# 训练分类器\n",
    "classifier = RandomForestClassifier(n_estimators=300, random_state=42)\n",
    "classifier.fit(X_train, y_train)\n",
    "\n",
    "# 预测测试集\n",
    "y_pred = classifier.predict(X_test)\n",
    "\n",
    "# 评估模型\n",
    "print(\"Accuracy:\", accuracy_score(y_test, y_pred))\n"
   ]
  },
  {
   "cell_type": "code",
   "execution_count": 125,
   "metadata": {},
   "outputs": [
    {
     "name": "stdout",
     "output_type": "stream",
     "text": [
      "Accuracy: 0.7956225127913588\n"
     ]
    }
   ],
   "source": [
    "#SVM方法\n",
    "# 划分训练集和测试集\n",
    "X_train, X_test, y_train, y_test = train_test_split(doc_vectors, Airbnb_Listing['profitable'], test_size=0.2, random_state=42)\n",
    "\n",
    "# 创建 SVM 分类器实例\n",
    "svm_classifier = SVC(random_state=42)\n",
    "\n",
    "# 训练分类器\n",
    "svm_classifier.fit(X_train, y_train)\n",
    "\n",
    "# 预测测试集\n",
    "y_pred = svm_classifier.predict(X_test)\n",
    "\n",
    "# 评估模型\n",
    "print(\"Accuracy:\", accuracy_score(y_test, y_pred))\n",
    "\n"
   ]
  },
  {
   "cell_type": "markdown",
   "metadata": {},
   "source": [
    "**保存该SVM 模型**"
   ]
  },
  {
   "cell_type": "code",
   "execution_count": 130,
   "metadata": {},
   "outputs": [
    {
     "data": {
      "text/plain": [
       "['svm_classfier_model.joblib']"
      ]
     },
     "execution_count": 130,
     "metadata": {},
     "output_type": "execute_result"
    }
   ],
   "source": [
    "dump(svm_classifier, 'svm_classfier_model.joblib')"
   ]
  },
  {
   "cell_type": "markdown",
   "metadata": {},
   "source": [
    "**读取训练后的SVM模型**"
   ]
  },
  {
   "cell_type": "code",
   "execution_count": 134,
   "metadata": {},
   "outputs": [],
   "source": [
    "svm_classifier = load('svm_classfier_model.joblib')"
   ]
  },
  {
   "cell_type": "code",
   "execution_count": null,
   "metadata": {},
   "outputs": [],
   "source": [
    "print(model.wv.index_to_key) # <-- the full vocabulary that has been trained"
   ]
  },
  {
   "cell_type": "markdown",
   "metadata": {},
   "source": [
    "# 可视化\n",
    "\n",
    "分析得到的主题，并根据需要进行可视化。"
   ]
  },
  {
   "cell_type": "markdown",
   "metadata": {},
   "source": [
    "**加入地理信息元素绘图**"
   ]
  },
  {
   "cell_type": "code",
   "execution_count": 158,
   "metadata": {},
   "outputs": [
    {
     "name": "stdout",
     "output_type": "stream",
     "text": [
      "Converting successful\n",
      "Now gdf has 86,679 rows.\n"
     ]
    }
   ],
   "source": [
    "%%capture --no-stdout\n",
    "# Transfer pandas dataframe (Airbnb_listing.csv) to geopandas geodataframe\n",
    "# By using the coordinates ()\n",
    "from shapely.geometry import Point\n",
    "\n",
    "# Create geometry column\n",
    "geometry = [Point(xy) for xy in zip(Airbnb_Listing['longitude'], Airbnb_Listing['latitude'])]\n",
    "\n",
    "# Converting to GeoDataframe\n",
    "gdf_listing = gpd.GeoDataFrame(Airbnb_Listing, geometry=geometry)\n",
    "\n",
    "# Set the CRS\n",
    "gdf_listing.set_crs(\"EPSG:4326\", inplace=True)  # (EPSG:4326)\n",
    "\n",
    "print(\"Converting successful\")\n",
    "\n",
    "\n",
    "# Drop NAs of columns ['description','amenities']\n",
    "gdf_listing = gdf_listing.dropna(subset=['description','amenities'])\n",
    "print(f\"Now gdf has {gdf_listing.shape[0]:,} rows.\")"
   ]
  },
  {
   "cell_type": "code",
   "execution_count": 159,
   "metadata": {},
   "outputs": [
    {
     "ename": "KeyError",
     "evalue": "'sum_income'",
     "output_type": "error",
     "traceback": [
      "\u001b[1;31m---------------------------------------------------------------------------\u001b[0m",
      "\u001b[1;31mKeyError\u001b[0m                                  Traceback (most recent call last)",
      "File \u001b[1;32mc:\\Users\\SBH\\anaconda3\\Lib\\site-packages\\pandas\\core\\indexes\\base.py:3653\u001b[0m, in \u001b[0;36mIndex.get_loc\u001b[1;34m(self, key)\u001b[0m\n\u001b[0;32m   3652\u001b[0m \u001b[39mtry\u001b[39;00m:\n\u001b[1;32m-> 3653\u001b[0m     \u001b[39mreturn\u001b[39;00m \u001b[39mself\u001b[39;49m\u001b[39m.\u001b[39;49m_engine\u001b[39m.\u001b[39;49mget_loc(casted_key)\n\u001b[0;32m   3654\u001b[0m \u001b[39mexcept\u001b[39;00m \u001b[39mKeyError\u001b[39;00m \u001b[39mas\u001b[39;00m err:\n",
      "File \u001b[1;32mc:\\Users\\SBH\\anaconda3\\Lib\\site-packages\\pandas\\_libs\\index.pyx:147\u001b[0m, in \u001b[0;36mpandas._libs.index.IndexEngine.get_loc\u001b[1;34m()\u001b[0m\n",
      "File \u001b[1;32mc:\\Users\\SBH\\anaconda3\\Lib\\site-packages\\pandas\\_libs\\index.pyx:176\u001b[0m, in \u001b[0;36mpandas._libs.index.IndexEngine.get_loc\u001b[1;34m()\u001b[0m\n",
      "File \u001b[1;32mpandas\\_libs\\hashtable_class_helper.pxi:7080\u001b[0m, in \u001b[0;36mpandas._libs.hashtable.PyObjectHashTable.get_item\u001b[1;34m()\u001b[0m\n",
      "File \u001b[1;32mpandas\\_libs\\hashtable_class_helper.pxi:7088\u001b[0m, in \u001b[0;36mpandas._libs.hashtable.PyObjectHashTable.get_item\u001b[1;34m()\u001b[0m\n",
      "\u001b[1;31mKeyError\u001b[0m: 'sum_income'",
      "\nThe above exception was the direct cause of the following exception:\n",
      "\u001b[1;31mKeyError\u001b[0m                                  Traceback (most recent call last)",
      "\u001b[1;32mc:\\Users\\SBH\\OneDrive - University College London\\#CASA0013__FoundationsOfSpatialDataScience\\Groupwork_DeskB\\Group_Work_DeskB.ipynb Cell 76\u001b[0m line \u001b[0;36m4\n\u001b[0;32m      <a href='vscode-notebook-cell:/c%3A/Users/SBH/OneDrive%20-%20University%20College%20London/%23CASA0013__FoundationsOfSpatialDataScience/Groupwork_DeskB/Group_Work_DeskB.ipynb#Y162sZmlsZQ%3D%3D?line=1'>2</a>\u001b[0m gdf_listing \u001b[39m=\u001b[39m gpd\u001b[39m.\u001b[39mread_file(\u001b[39m'\u001b[39m\u001b[39mLondon_Boroughs.gpkg\u001b[39m\u001b[39m'\u001b[39m)  \u001b[39m# 替换为你的数据文件路径\u001b[39;00m\n\u001b[0;32m      <a href='vscode-notebook-cell:/c%3A/Users/SBH/OneDrive%20-%20University%20College%20London/%23CASA0013__FoundationsOfSpatialDataScience/Groupwork_DeskB/Group_Work_DeskB.ipynb#Y162sZmlsZQ%3D%3D?line=2'>3</a>\u001b[0m coordinates \u001b[39m=\u001b[39m gdf_listing[[\u001b[39m'\u001b[39m\u001b[39mgeometry\u001b[39m\u001b[39m'\u001b[39m]]\u001b[39m.\u001b[39mcopy()\n\u001b[1;32m----> <a href='vscode-notebook-cell:/c%3A/Users/SBH/OneDrive%20-%20University%20College%20London/%23CASA0013__FoundationsOfSpatialDataScience/Groupwork_DeskB/Group_Work_DeskB.ipynb#Y162sZmlsZQ%3D%3D?line=3'>4</a>\u001b[0m values \u001b[39m=\u001b[39m gdf_listing[\u001b[39m'\u001b[39;49m\u001b[39msum_income\u001b[39;49m\u001b[39m'\u001b[39;49m]\u001b[39m.\u001b[39mvalues\n\u001b[0;32m      <a href='vscode-notebook-cell:/c%3A/Users/SBH/OneDrive%20-%20University%20College%20London/%23CASA0013__FoundationsOfSpatialDataScience/Groupwork_DeskB/Group_Work_DeskB.ipynb#Y162sZmlsZQ%3D%3D?line=5'>6</a>\u001b[0m \u001b[39m# IDW插值函数\u001b[39;00m\n\u001b[0;32m      <a href='vscode-notebook-cell:/c%3A/Users/SBH/OneDrive%20-%20University%20College%20London/%23CASA0013__FoundationsOfSpatialDataScience/Groupwork_DeskB/Group_Work_DeskB.ipynb#Y162sZmlsZQ%3D%3D?line=6'>7</a>\u001b[0m \u001b[39mdef\u001b[39;00m \u001b[39midw_interpolation\u001b[39m(x, y, z, xi, yi, power\u001b[39m=\u001b[39m\u001b[39m2\u001b[39m):\n",
      "File \u001b[1;32mc:\\Users\\SBH\\anaconda3\\Lib\\site-packages\\geopandas\\geodataframe.py:1474\u001b[0m, in \u001b[0;36mGeoDataFrame.__getitem__\u001b[1;34m(self, key)\u001b[0m\n\u001b[0;32m   1468\u001b[0m \u001b[39mdef\u001b[39;00m \u001b[39m__getitem__\u001b[39m(\u001b[39mself\u001b[39m, key):\n\u001b[0;32m   1469\u001b[0m \u001b[39m    \u001b[39m\u001b[39m\"\"\"\u001b[39;00m\n\u001b[0;32m   1470\u001b[0m \u001b[39m    If the result is a column containing only 'geometry', return a\u001b[39;00m\n\u001b[0;32m   1471\u001b[0m \u001b[39m    GeoSeries. If it's a DataFrame with any columns of GeometryDtype,\u001b[39;00m\n\u001b[0;32m   1472\u001b[0m \u001b[39m    return a GeoDataFrame.\u001b[39;00m\n\u001b[0;32m   1473\u001b[0m \u001b[39m    \"\"\"\u001b[39;00m\n\u001b[1;32m-> 1474\u001b[0m     result \u001b[39m=\u001b[39m \u001b[39msuper\u001b[39;49m()\u001b[39m.\u001b[39;49m\u001b[39m__getitem__\u001b[39;49m(key)\n\u001b[0;32m   1475\u001b[0m     \u001b[39m# Custom logic to avoid waiting for pandas GH51895\u001b[39;00m\n\u001b[0;32m   1476\u001b[0m     \u001b[39m# result is not geometry dtype for multi-indexes\u001b[39;00m\n\u001b[0;32m   1477\u001b[0m     \u001b[39mif\u001b[39;00m (\n\u001b[0;32m   1478\u001b[0m         pd\u001b[39m.\u001b[39mapi\u001b[39m.\u001b[39mtypes\u001b[39m.\u001b[39mis_scalar(key)\n\u001b[0;32m   1479\u001b[0m         \u001b[39mand\u001b[39;00m key \u001b[39m==\u001b[39m \u001b[39m\"\u001b[39m\u001b[39m\"\u001b[39m\n\u001b[1;32m   (...)\u001b[0m\n\u001b[0;32m   1482\u001b[0m         \u001b[39mand\u001b[39;00m \u001b[39mnot\u001b[39;00m is_geometry_type(result)\n\u001b[0;32m   1483\u001b[0m     ):\n",
      "File \u001b[1;32mc:\\Users\\SBH\\anaconda3\\Lib\\site-packages\\pandas\\core\\frame.py:3761\u001b[0m, in \u001b[0;36mDataFrame.__getitem__\u001b[1;34m(self, key)\u001b[0m\n\u001b[0;32m   3759\u001b[0m \u001b[39mif\u001b[39;00m \u001b[39mself\u001b[39m\u001b[39m.\u001b[39mcolumns\u001b[39m.\u001b[39mnlevels \u001b[39m>\u001b[39m \u001b[39m1\u001b[39m:\n\u001b[0;32m   3760\u001b[0m     \u001b[39mreturn\u001b[39;00m \u001b[39mself\u001b[39m\u001b[39m.\u001b[39m_getitem_multilevel(key)\n\u001b[1;32m-> 3761\u001b[0m indexer \u001b[39m=\u001b[39m \u001b[39mself\u001b[39;49m\u001b[39m.\u001b[39;49mcolumns\u001b[39m.\u001b[39;49mget_loc(key)\n\u001b[0;32m   3762\u001b[0m \u001b[39mif\u001b[39;00m is_integer(indexer):\n\u001b[0;32m   3763\u001b[0m     indexer \u001b[39m=\u001b[39m [indexer]\n",
      "File \u001b[1;32mc:\\Users\\SBH\\anaconda3\\Lib\\site-packages\\pandas\\core\\indexes\\base.py:3655\u001b[0m, in \u001b[0;36mIndex.get_loc\u001b[1;34m(self, key)\u001b[0m\n\u001b[0;32m   3653\u001b[0m     \u001b[39mreturn\u001b[39;00m \u001b[39mself\u001b[39m\u001b[39m.\u001b[39m_engine\u001b[39m.\u001b[39mget_loc(casted_key)\n\u001b[0;32m   3654\u001b[0m \u001b[39mexcept\u001b[39;00m \u001b[39mKeyError\u001b[39;00m \u001b[39mas\u001b[39;00m err:\n\u001b[1;32m-> 3655\u001b[0m     \u001b[39mraise\u001b[39;00m \u001b[39mKeyError\u001b[39;00m(key) \u001b[39mfrom\u001b[39;00m \u001b[39merr\u001b[39;00m\n\u001b[0;32m   3656\u001b[0m \u001b[39mexcept\u001b[39;00m \u001b[39mTypeError\u001b[39;00m:\n\u001b[0;32m   3657\u001b[0m     \u001b[39m# If we have a listlike key, _check_indexing_error will raise\u001b[39;00m\n\u001b[0;32m   3658\u001b[0m     \u001b[39m#  InvalidIndexError. Otherwise we fall through and re-raise\u001b[39;00m\n\u001b[0;32m   3659\u001b[0m     \u001b[39m#  the TypeError.\u001b[39;00m\n\u001b[0;32m   3660\u001b[0m     \u001b[39mself\u001b[39m\u001b[39m.\u001b[39m_check_indexing_error(key)\n",
      "\u001b[1;31mKeyError\u001b[0m: 'sum_income'"
     ]
    }
   ],
   "source": [
    "# 加载数据\n",
    "gdf_listing = gpd.read_file('London_Boroughs.gpkg')  # 替换为你的数据文件路径\n",
    "coordinates = gdf_listing[['geometry']].copy()\n",
    "values = gdf_listing['sum_income'].values\n",
    "\n",
    "# IDW插值函数\n",
    "def idw_interpolation(x, y, z, xi, yi, power=2):\n",
    "    dist = cdist(xi, x)\n",
    "    dist = np.where(dist == 0, 1, dist)\n",
    "    weights = 1 / dist**power\n",
    "    weights /= weights.sum(axis=1)[:, None]\n",
    "    zi = np.dot(weights, z)\n",
    "    return zi\n",
    "\n",
    "# 创建插值网格\n",
    "x_min, y_min, x_max, y_max = coordinates.total_bounds\n",
    "xi, yi = np.mgrid[x_min:x_max:100j, y_min:y_max:100j]  # 100x100网格\n",
    "xi, yi = xi.flatten(), yi.flatten()\n",
    "xyi = np.vstack((xi, yi)).T\n",
    "\n",
    "# 进行IDW插值\n",
    "zi = idw_interpolation(coordinates.values, values, xyi)\n",
    "\n",
    "# 创建插值后的GeoDataFrame\n",
    "gdf_interpolated = gpd.GeoDataFrame({'Z': zi}, \n",
    "                                    geometry=gpd.points_from_xy(xyi[:, 0], xyi[:, 1]))\n",
    "\n",
    "# 绘制插值结果\n",
    "fig, ax = plt.subplots(figsize=(10, 10))\n",
    "gdf_interpolated.plot(column='Z', ax=ax, alpha=0.5, legend=True,\n",
    "                      cmap='viridis', markersize=5)\n",
    "\n",
    "# 添加底图\n",
    "ctx.add_basemap(ax, source=ctx.providers.OpenStreetMap.Mapnik)\n",
    "\n",
    "plt.show()\n",
    "\n",
    "# 保存地图\n",
    "# fig.savefig('london_housing_price_map.png')"
   ]
  },
  {
   "cell_type": "code",
   "execution_count": 162,
   "metadata": {},
   "outputs": [
    {
     "name": "stdout",
     "output_type": "stream",
     "text": [
      "<class 'geopandas.geodataframe.GeoDataFrame'>\n",
      "RangeIndex: 33 entries, 0 to 32\n",
      "Data columns (total 8 columns):\n",
      " #   Column      Non-Null Count  Dtype   \n",
      "---  ------      --------------  -----   \n",
      " 0   objectid    33 non-null     int64   \n",
      " 1   name        33 non-null     object  \n",
      " 2   gss_code    33 non-null     object  \n",
      " 3   hectares    33 non-null     float64 \n",
      " 4   nonld_area  33 non-null     float64 \n",
      " 5   ons_inner   33 non-null     object  \n",
      " 6   sub_2011    33 non-null     object  \n",
      " 7   geometry    33 non-null     geometry\n",
      "dtypes: float64(2), geometry(1), int64(1), object(4)\n",
      "memory usage: 2.2+ KB\n"
     ]
    }
   ],
   "source": [
    "gdf_listing.info()"
   ]
  },
  {
   "cell_type": "markdown",
   "metadata": {},
   "source": [
    "## 7. Drawing on your previous answers, and supporting your response with evidence (e.g. figures, maps, and statistical analysis/models), how *could* this data set be used to inform the regulation of Short-Term Lets (STL) in London?\n",
    "\n",
    "::: duedate\n",
    "( 45 points; Answer due {{< var assess.group-date >}} )\n",
    ":::\n",
    "\n",
    "## Sustainable Authorship Tools\n",
    "\n",
    "Your QMD file should automatically download your BibTeX file. We will then re-run the QMD file to generate the output successfully.\n",
    "\n",
    "Written in Markdown and generated from [Quarto](https://quarto.org/). Fonts used: [Spectral](https://fonts.google.com/specimen/Spectral) (mainfont), [Roboto](https://fonts.google.com/specimen/Roboto) ([sansfont]{style=\"font-family:Sans-Serif;\"}) and [JetBrains Mono](https://fonts.google.com/specimen/JetBrains%20Mono) (`monofont`).\n",
    "\n",
    "## References"
   ]
  }
 ],
 "metadata": {
  "kernelspec": {
   "display_name": "Python 3 (ipykernel)",
   "language": "python",
   "name": "python3"
  },
  "language_info": {
   "codemirror_mode": {
    "name": "ipython",
    "version": 3
   },
   "file_extension": ".py",
   "mimetype": "text/x-python",
   "name": "python",
   "nbconvert_exporter": "python",
   "pygments_lexer": "ipython3",
   "version": "3.11.5"
  }
 },
 "nbformat": 4,
 "nbformat_minor": 5
}
