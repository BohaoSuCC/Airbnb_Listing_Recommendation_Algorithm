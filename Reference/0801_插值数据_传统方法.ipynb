{
 "cells": [
  {
   "cell_type": "markdown",
   "metadata": {
    "collapsed": true,
    "pycharm": {
     "name": "#%% md\n"
    }
   },
   "source": [
    "# 数据插值\n",
    "\n",
    "## 数据准备"
   ]
  },
  {
   "cell_type": "code",
   "execution_count": null,
   "metadata": {
    "collapsed": false,
    "pycharm": {
     "name": "#%%\n"
    }
   },
   "outputs": [],
   "source": [
    "import numpy as np\n",
    "import pandas as pd\n",
    "import matplotlib.pyplot as plt"
   ]
  },
  {
   "cell_type": "code",
   "execution_count": null,
   "metadata": {
    "collapsed": false,
    "pycharm": {
     "name": "#%%\n"
    }
   },
   "outputs": [],
   "source": [
    "name_list = ['id', 'latitude', 'longitude', 'altitude', 'year', 'month', 'day', 'avg_temp', 'max_temp',\n",
    "             'min_temp', 'col1', 'col2', 'col3']\n",
    "raw_data = pd.read_table(\"./数据集/插值数据/SURF_CLI_CHN_MUL_DAY-TEM-12001-201905.TXT\",\n",
    "                         header=None, sep='\\t')\n",
    "raw_data = raw_data[0].apply(lambda x: pd.Series([float(i.strip()) for i in x.split(' ') if i != ''], index=name_list))\n",
    "raw_data"
   ]
  },
  {
   "cell_type": "code",
   "execution_count": null,
   "metadata": {
    "collapsed": false,
    "pycharm": {
     "name": "#%%\n"
    }
   },
   "outputs": [],
   "source": [
    "clean_data = raw_data.loc[(raw_data['year'] == 2019) & (raw_data['month'] == 5), :].groupby(\n",
    "    ['latitude', 'longitude']).agg(\n",
    "    avg_temp=('avg_temp', 'mean')\n",
    ").reset_index()\n",
    "\n",
    "for index in ['latitude', 'longitude']:\n",
    "    clean_data[index] = clean_data[index] * 0.01\n",
    "clean_data = clean_data.loc[(clean_data['longitude'] > 20) & (clean_data['latitude'] > 10), :]\n",
    "clean_data"
   ]
  },
  {
   "cell_type": "code",
   "execution_count": null,
   "metadata": {
    "collapsed": false,
    "pycharm": {
     "name": "#%%\n"
    }
   },
   "outputs": [],
   "source": [
    "fig, ax = plt.subplots(figsize=(6, 6), dpi=150)\n",
    "ax.scatter(clean_data['longitude'], clean_data['latitude'])"
   ]
  },
  {
   "cell_type": "markdown",
   "metadata": {
    "collapsed": false,
    "pycharm": {
     "name": "#%% md\n"
    }
   },
   "source": [
    "## 筛选安徽省的数据"
   ]
  },
  {
   "cell_type": "code",
   "execution_count": null,
   "metadata": {
    "collapsed": false,
    "pycharm": {
     "name": "#%%\n"
    }
   },
   "outputs": [],
   "source": [
    "from getchinamap import getchinamap\n",
    "\n",
    "china_engine = getchinamap.DownloadChmap()\n",
    "prov_gpd = china_engine.download_province(province_name='安徽省', target='边界')\n",
    "# prov_gpd = china_engine.download_country(target='边界')\n",
    "\n",
    "prov_gpd"
   ]
  },
  {
   "cell_type": "code",
   "execution_count": null,
   "metadata": {
    "collapsed": false,
    "pycharm": {
     "name": "#%%\n"
    }
   },
   "outputs": [],
   "source": [
    "prov_gpd_valid = prov_gpd.copy()\n",
    "prov_gpd_valid['geometry'] = prov_gpd_valid.buffer(0)"
   ]
  },
  {
   "cell_type": "code",
   "execution_count": null,
   "metadata": {
    "collapsed": false,
    "pycharm": {
     "name": "#%%\n"
    }
   },
   "outputs": [],
   "source": [
    "from shapely.geometry import Point\n",
    "\n",
    "\n",
    "def detect_pic(x):\n",
    "    return prov_gpd_valid.contains(Point(x['longitude'], x['latitude']))[0]\n",
    "\n",
    "\n",
    "def detect_pic_inrect(x):\n",
    "    bounds_ = prov_gpd_valid.bounds.iloc[0, :]\n",
    "    minx, miny, maxx, maxy = bounds_.minx, bounds_.miny, bounds_.maxx, bounds_.maxy\n",
    "    return (minx <= x['longitude']) & (x['longitude'] <= maxx) & (x['latitude'] >= miny) & (x['latitude'] <= maxy)\n",
    "\n",
    "\n",
    "# clean_data['in_geo'] = clean_data.apply(lambda x: detect_pic(x), axis=1)\n",
    "clean_data['in_box'] = clean_data.apply(lambda x: detect_pic_inrect(x), axis=1)"
   ]
  },
  {
   "cell_type": "code",
   "execution_count": null,
   "metadata": {
    "collapsed": false,
    "pycharm": {
     "name": "#%%\n"
    }
   },
   "outputs": [],
   "source": [
    "prov_pointer_df = clean_data.loc[clean_data['in_box']].reset_index(drop=True)\n",
    "prov_pointer_df"
   ]
  },
  {
   "cell_type": "code",
   "execution_count": null,
   "metadata": {
    "collapsed": false,
    "pycharm": {
     "name": "#%%\n"
    }
   },
   "outputs": [],
   "source": [
    "fig, ax = plt.subplots(figsize=(4, 6))\n",
    "ax.scatter(prov_pointer_df['longitude'], prov_pointer_df['latitude'])\n",
    "# ax.scatter(clean_data['longitude'], clean_data['latitude'])\n",
    "prov_gpd_valid.boundary.plot(ax=ax)\n",
    "ax.set_xlim(prov_gpd_valid.bounds.minx[0], prov_gpd_valid.bounds.maxx[0])\n",
    "ax.set_ylim(prov_gpd_valid.bounds.miny[0], prov_gpd_valid.bounds.maxy[0])\n"
   ]
  },
  {
   "cell_type": "code",
   "execution_count": null,
   "metadata": {
    "collapsed": false,
    "pycharm": {
     "name": "#%%\n"
    }
   },
   "outputs": [],
   "source": [
    "prov_gpd_valid.bounds"
   ]
  },
  {
   "cell_type": "code",
   "execution_count": null,
   "metadata": {
    "collapsed": false,
    "pycharm": {
     "name": "#%%\n"
    }
   },
   "outputs": [],
   "source": [
    "prov_gpd_valid.bounds.minx[0]"
   ]
  },
  {
   "cell_type": "code",
   "execution_count": null,
   "metadata": {
    "collapsed": false,
    "pycharm": {
     "name": "#%%\n"
    }
   },
   "outputs": [],
   "source": [
    "bounds_ = prov_gpd_valid.bounds.iloc[0, :]\n",
    "minx, miny, maxx, maxy = bounds_.minx, bounds_.miny, bounds_.maxx, bounds_.maxy"
   ]
  },
  {
   "cell_type": "code",
   "execution_count": null,
   "metadata": {
    "collapsed": false,
    "pycharm": {
     "name": "#%%\n"
    }
   },
   "outputs": [],
   "source": [
    "longitude_x = np.linspace(start=minx, stop=maxx, num=100)\n",
    "latitude_y = np.linspace(start=miny, stop=maxy, num=200)\n",
    "\n",
    "# grid_x, grid_y = np.meshgrid(longitude_x, latitude_y)\n",
    "# grid_x_list = grid_x.reshape(-1,1)\n",
    "# grid_y_list = grid_y.reshape(-1, 1)\n",
    "# grid_df = pd.DataFrame({'grid_x_list':grid_x_list.flatten(), 'grid_y_list':grid_y_list.flatten()})\n",
    "# grid_df"
   ]
  },
  {
   "cell_type": "code",
   "execution_count": null,
   "metadata": {
    "collapsed": false,
    "pycharm": {
     "name": "#%%\n"
    }
   },
   "outputs": [],
   "source": [
    "from scipy import interpolate\n",
    "# f = interpolate.interp2d(prov_pointer_df['longitude'], prov_pointer_df['latitude'], prov_pointer_df['avg_temp'], kind='quintic')\n",
    "f = interpolate.interp2d(clean_data['longitude'], clean_data['latitude'], clean_data['avg_temp'], kind='quintic')\n",
    "# f = interpolate.interp2d(clean_data['longitude'], clean_data['latitude'], clean_data['avg_temp'], kind='cubic')\n",
    "\n",
    "# f(grid_df['grid_x_list'], grid_df['grid_y_list'])\n",
    "predict_cubic = f(longitude_x, latitude_y)\n",
    "predict_cubic.shape"
   ]
  },
  {
   "cell_type": "code",
   "execution_count": null,
   "metadata": {
    "collapsed": false,
    "pycharm": {
     "name": "#%%\n"
    }
   },
   "outputs": [],
   "source": [
    "import matplotlib as mpl\n",
    "from matplotlib import cm\n",
    "fig, ax = plt.subplots(figsize=(10, 6), dpi=150)\n",
    "colors = [\"#33A02C\", \"#B2DF8A\", \"#FDBF6F\", \"#1F78B4\", \"#999999\", \"#E31A1C\"]\n",
    "# ax.scatter(clean_data['longitude'], clean_data['latitude'], c='red')\n",
    "prov_gpd_valid.boundary.plot(ax=ax, color='white')\n",
    "# ax_im_bar = ax.contourf(grid_x, grid_y, predict_cubic,cmap=cm.coolwarm) #mpl.colors.LinearSegmentedColormap.from_list(\"mypalette\", colors, N=1000)\n",
    "\n",
    "ax_im_bar = ax.imshow(predict_cubic, origin='lower',\n",
    "                      extent=(minx, maxx,miny, maxy),\n",
    "                      cmap=mpl.colors.LinearSegmentedColormap.from_list(\"mypalette\", colors, N=1000))\n",
    "# ax.contour(grid_x, grid_y, predict_cubic)\n",
    "ax.scatter(prov_pointer_df['longitude'], prov_pointer_df['latitude'], c='black', s=6)\n",
    "\n",
    "for index in range(prov_pointer_df.shape[0]):\n",
    "    ax.text(prov_pointer_df.iloc[index]['longitude'], prov_pointer_df.iloc[index]['latitude'],np.around(prov_pointer_df.iloc[index]['avg_temp'], 2), c='black')\n",
    "#\n",
    "# ax.set_xlim(prov_gpd_valid.bounds.minx[0], prov_gpd_valid.bounds.maxx[0])\n",
    "# ax.set_ylim(prov_gpd_valid.bounds.miny[0], prov_gpd_valid.bounds.maxy[0])\n",
    "fig.colorbar(ax_im_bar, orientation='vertical')\n",
    "plt.tight_layout()\n",
    "plt.savefig(\"结果/result012901.png\")"
   ]
  },
  {
   "cell_type": "code",
   "execution_count": null,
   "metadata": {
    "collapsed": false,
    "pycharm": {
     "name": "#%%\n"
    }
   },
   "outputs": [],
   "source": []
  }
 ],
 "metadata": {
  "kernelspec": {
   "display_name": "Python 3",
   "language": "python",
   "name": "python3"
  },
  "language_info": {
   "codemirror_mode": {
    "name": "ipython",
    "version": 2
   },
   "file_extension": ".py",
   "mimetype": "text/x-python",
   "name": "python",
   "nbconvert_exporter": "python",
   "pygments_lexer": "ipython2",
   "version": "2.7.6"
  }
 },
 "nbformat": 4,
 "nbformat_minor": 0
}
