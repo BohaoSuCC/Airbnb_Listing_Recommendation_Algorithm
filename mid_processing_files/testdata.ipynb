{
 "cells": [
  {
   "cell_type": "code",
   "execution_count": 1,
   "id": "1ca74f5a-172b-45bf-aeda-0880e8165b87",
   "metadata": {},
   "outputs": [
    {
     "ename": "ModuleNotFoundError",
     "evalue": "No module named 'graphviz'",
     "output_type": "error",
     "traceback": [
      "\u001b[1;31m---------------------------------------------------------------------------\u001b[0m",
      "\u001b[1;31mModuleNotFoundError\u001b[0m                       Traceback (most recent call last)",
      "Cell \u001b[1;32mIn[1], line 1\u001b[0m\n\u001b[1;32m----> 1\u001b[0m \u001b[38;5;28;01mfrom\u001b[39;00m \u001b[38;5;21;01mgraphviz\u001b[39;00m \u001b[38;5;28;01mimport\u001b[39;00m Digraph\n\u001b[0;32m      2\u001b[0m \u001b[38;5;28;01mfrom\u001b[39;00m \u001b[38;5;21;01mIPython\u001b[39;00m\u001b[38;5;21;01m.\u001b[39;00m\u001b[38;5;21;01mdisplay\u001b[39;00m \u001b[38;5;28;01mimport\u001b[39;00m Image\n",
      "\u001b[1;31mModuleNotFoundError\u001b[0m: No module named 'graphviz'"
     ]
    }
   ],
   "source": [
    "from graphviz import Digraph\n",
    "from IPython.display import Image\n"
   ]
  },
  {
   "cell_type": "code",
   "execution_count": null,
   "id": "831bb03d",
   "metadata": {},
   "outputs": [],
   "source": [
    "\n",
    "# 使用 neato 引擎初始化一个无向图\n",
    "g = Digraph(engine='neato')\n",
    "g.attr(fontsize='30')\n",
    "g.attr(arrowsize='0.1')\n",
    "\n",
    "# 添加节点，并尝试指定它们的位置\n",
    "g.node('5A', 'Opportunities for Place- or Listing-Branding\\nidentifying key terms and features/amenities used to market listings by area and\\nusing these to identify opportunities for investment or branding.',shape='box', style='rounded', pos='0,24!')\n",
    "g.node('5B', 'Branding Definition: \\nExtract the characteristics and key elements (key terms and features/amenities) of different listings, \\nand make customized recommendations based on different product features when promoting to renters — therefore, \\nthe main research subjects are the \"amenities\" and \"description\" columns of text data from InsideAirbnb.',shape='box', style='rounded', pos='0,21!')\n",
    "g.node('6A', 'Branding_核心问题 : 在伦敦STL(Short-Term Lets)的regulation背景下，每个房源仅有90天的租赁\\n时间。那么有着怎样文本特征的房源更容易产生成功的预定并为房东带来更多的收益？',shape='box', style='rounded', pos='0,15!')\n",
    "g.node('6B1', '如何衡量“更多的收益”？',shape='box', style='rounded', pos='6,18!')\n",
    "g.node('6C1', '不论对于Airbnb还是房东来\\n说，收入肯定是越高越好。\\n我们用“minimum_nights”列的\\n数据乘以“number_of_review”\\nxxxxxx，乘以price。最后得到\\n一个预估的总和income。',shape='box', style='rounded', pos='9,18!')\n",
    "g.node('6C2', '这个数据准确吗？\\n不准确，因为每个column表示\\n的确切意思并不能完美契合公\\n式。但是我们计算的均值结果\\n与InsideAirbnb官网的结果较\\n为相似。',shape='box', style='rounded', pos='12,18!')\n",
    "g.node('6C3', '将每个房源listing得到的\\nsum_income通过IDW插值分析生\\n成栅格图像，表达伦敦短租房源\\n的income空间分布情况。 \\n（第一个大图）',shape='box', style='rounded', pos='15,18!')\n",
    "g.node('6B2', '如何利用“description” \\n“amenities“这两列的文本特征？',shape='box', style='rounded', pos='6,15!')\n",
    "g.node('6D1', '“description” \\n这一列的主要内容是房东对该\\n房源的描述。\\n那么，在各种各样的描述中，\\n不同的房东会从哪些方面（主\\n题topic）来对自己的房源进行\\n描述（branding）？',shape='box', style='rounded', pos='9,15!')\n",
    "g.node('6D2', '如何决定共有多少个topic？ \\n测试不同数量主题的模型并记\\n录其Coherence Values。 \\n（第二个折线图）',shape='box', style='rounded', pos='12,15!')\n",
    "g.node('6D3', '如何依据之前的主题数量，总\\n结所有topic中的关键词？ \\n通过LDA(Latent Dirchlet\\nAllocation)模型。 \\n（第三个词云图）',shape='box', style='rounded', pos='15,15!')\n",
    "g.node('6D4', '不同区域的房源有着怎样的\\ntopic和关键词共性特征？ \\n（第四个大图）',shape='box', style='rounded', pos='20,15!')\n",
    "g.node('6E1', '“amenities” \\n这一列的主要内容是：\\nxxxxxx。\\n那么，在所有可提供的\\namenities中，哪些与income\\n有着正相关？',shape='box', style='rounded', pos='9,12!')\n",
    "g.node('6E2', '如何让单词与income\\n（numeric or category）进行\\n相关性分析？\\n将单词通过word2vec模型转\\n换为向量',shape='box', style='rounded', pos='12,12!')\n",
    "g.node('6E3', '1.向量降维聚类可视化（第五个大\\n图Dendrome） \\n2.通过训练SVM分类器，可以根\\n据“amenities”的内容预测income\\n的高/低于均值。',shape='box', style='rounded', pos='15,12!')\n",
    "g.node('7A', '得到了哪些分析结论',shape='box', style='rounded', pos='0,9!')\n",
    "g.node('7B1', 'Fig1.Airbnb房源文本描述的特征主题与关键词',shape='box', style='rounded', pos='0,6!')\n",
    "g.node('7B2', 'Fig2.基于文本特征的同质性房源的空间分布',shape='box', style='rounded', pos='0,3!')\n",
    "g.node('7B3', 'Fig3.Airbnb房源的“租赁利润率”空间分布',shape='box', style='rounded', pos='0,0!')\n",
    "g.node('7C', '通过文本特征优化\\nAirbnb的branding与\\nrecommendation算法',shape='box', style='rounded', pos='3,6!')\n",
    "g.node('7D', '调整\\nbranding\\n策略',shape='box', style='rounded', pos='6,6!')\n",
    "g.node('7E1', '对于Airbnb和host来说：给与有竞争力\\n的房源更多的正向反馈，提高其租赁利\\n润率，促进商业运作良性循环。',shape='box', style='rounded', pos='9,9!')\n",
    "g.node('7E2', '高者愈高',shape='box', style='rounded', pos='9,6!')\n",
    "g.node('7E3', '高低平衡',shape='box', style='rounded', pos='9,3!')\n",
    "g.node('7E4', '对于政府与社区构建来说：提高90天内\\n的入住率，尽可能多的减少长时间空置\\n的房屋，维持sustainable的供需平衡。',shape='box', style='rounded', pos='9,0!')\n",
    "g.node('7F', '如何选择不同\\n策略？',shape='box', style='rounded', pos='12,6!')\n",
    "g.node('7G', '基于Fig2与Fig3的空间分布\\n特征，对于不同特征的区域\\n采用不同的branding策略。',shape='box', style='rounded', pos='15,6!')\n",
    "g.node('7H1', 'STL政策建议可以做出那些变动？ \\n（基于空间分布特征的，针对不同类型的社区\\n区域进行customized的政策制定）',shape='box', style='rounded', pos='20,6!')\n",
    "g.node('7H2', '例如，对于那些高度同质化类型Fig2且租赁收益率Fig3真\\n的很高的房源，可以通过适当放宽90天，或者将日期与特\\n定旅游（短租需求）高峰相重合等方式。',shape='box', style='rounded', pos='20,3!')\n",
    "\n",
    "\n",
    "# 添加边\n",
    "g.edge('5A', '5B',  arrowhead='normal')\n",
    "g.edge('5B', '6A',  arrowhead='normal')\n",
    "g.edges([('6A','7A'), ('6A','6B1'), ('6A','6B2')])\n",
    "g.edge('6B1', '6C1',  arrowhead='normal')\n",
    "g.edge('6C1', '6C2', arrowhead='normal')\n",
    "g.edge('6C2', '6C3', arrowhead='normal')\n",
    "g.edges([('6B2','6D1'), ('6B2','6E1')])\n",
    "g.edge('6D1', '6D2', arrowhead='normal')\n",
    "g.edge('6D2', '6D3', arrowhead='normal')\n",
    "g.edge('6D3', '6D4', arrowhead='normal')\n",
    "g.edge('6E1', '6E2', arrowhead='normal')\n",
    "g.edge('6E2', '6E3', arrowhead='normal')\n",
    "g.edge('7B1', '7B2',color='transparent')\n",
    "g.edge('7B2', '7B3', color='transparent')\n",
    "g.edge('7B1', '7C', arrowhead='normal')\n",
    "g.edge('7C', '7D', arrowhead='normal')\n",
    "g.edges([('7D','7E2'), ('7D','7E3')])\n",
    "g.edge('7E2', '7E1', color='transparent')\n",
    "g.edge('7E3', '7E4',  color='transparent')\n",
    "g.edges([('7E2','7F'), ('7E3','7F')])\n",
    "g.edge('7F', '7G',  arrowhead='normal')\n",
    "g.edge('7G', '7H1', color='transparent')\n",
    "g.edge('7H1', '7H2',  color='transparent')\n",
    "\n",
    "# 渲染图像，返回图像的路径\n",
    "image_path = g.render('graph-output', format='png', cleanup=True)\n",
    "\n",
    "# 在 Jupyter Notebook 中显示图像\n",
    "Image(image_path)"
   ]
  }
 ],
 "metadata": {
  "kernelspec": {
   "display_name": "Python 3 (ipykernel)",
   "language": "python",
   "name": "python3"
  },
  "language_info": {
   "codemirror_mode": {
    "name": "ipython",
    "version": 3
   },
   "file_extension": ".py",
   "mimetype": "text/x-python",
   "name": "python",
   "nbconvert_exporter": "python",
   "pygments_lexer": "ipython3",
   "version": "3.11.5"
  }
 },
 "nbformat": 4,
 "nbformat_minor": 5
}
