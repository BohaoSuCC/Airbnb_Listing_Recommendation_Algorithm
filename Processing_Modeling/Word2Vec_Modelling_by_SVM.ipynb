{
 "cells": [
  {
   "cell_type": "markdown",
   "metadata": {},
   "source": [
    "**Load Library**"
   ]
  },
  {
   "cell_type": "code",
   "execution_count": 1,
   "metadata": {},
   "outputs": [],
   "source": [
    "import os\n",
    "import spacy\n",
    "import pandas as pd\n",
    "import numpy as np\n",
    "import geopandas as gpd\n",
    "import re\n",
    "import math\n",
    "import string\n",
    "import unicodedata\n",
    "import gensim\n",
    "import matplotlib.pyplot as plt\n",
    "import nltk\n",
    "import seaborn as sns\n",
    "import contextily as ctx\n",
    "import urllib.request\n",
    "import ast  # 用于安全地将字符串转换为列表\n",
    "import umap\n",
    "\n",
    "from scipy.spatial.distance import cdist\n",
    "\n",
    "from shapely.geometry import Point\n",
    "\n",
    "from sklearn.preprocessing import OneHotEncoder  # We don't use this but I point out where you *could*\n",
    "from sklearn.feature_extraction.text import TfidfVectorizer\n",
    "from sklearn.feature_extraction.text import CountVectorizer\n",
    "from sklearn.decomposition import LatentDirichletAllocation\n",
    "from sklearn.model_selection import train_test_split\n",
    "from sklearn.model_selection import GridSearchCV\n",
    "from sklearn.model_selection import cross_val_score\n",
    "from sklearn.ensemble import RandomForestClassifier\n",
    "from sklearn.metrics import accuracy_score\n",
    "from sklearn.metrics import classification_report\n",
    "from sklearn.svm import SVC\n",
    "\n",
    "\n",
    "\n",
    "from nltk.corpus import wordnet\n",
    "from nltk.corpus import stopwords\n",
    "from nltk.tokenize import word_tokenize, sent_tokenize\n",
    "from nltk.stem.porter import PorterStemmer\n",
    "from nltk.stem.snowball import SnowballStemmer\n",
    "from nltk import ngrams, FreqDist\n",
    "\n",
    "from gensim.models.coherencemodel import CoherenceModel\n",
    "from gensim.corpora.dictionary import Dictionary\n",
    "from gensim.matutils import Sparse2Corpus\n",
    "from gensim.matutils import corpus2dense\n",
    "from gensim.models import tfidfmodel\n",
    "from gensim.models import Word2Vec\n",
    "from gensim.models import TfidfModel\n",
    "from gensim.models import KeyedVectors\n",
    "from gensim.models.ldamodel import LdaModel\n",
    "\n",
    "from bs4 import BeautifulSoup\n",
    "from wordcloud import WordCloud, STOPWORDS\n",
    "\n",
    "from joblib import dump\n",
    "from joblib import load\n",
    "\n"
   ]
  },
  {
   "cell_type": "code",
   "execution_count": 2,
   "metadata": {},
   "outputs": [],
   "source": [
    "Airbnb_Listing = pd.read_csv(os.path.join(\"..\",\"Data\",\"Airbnb_Listing_norm.csv\"))"
   ]
  },
  {
   "cell_type": "code",
   "execution_count": 3,
   "metadata": {},
   "outputs": [],
   "source": [
    "texts_word2vec = Airbnb_Listing['amenities_norm']"
   ]
  },
  {
   "cell_type": "code",
   "execution_count": 4,
   "metadata": {},
   "outputs": [
    {
     "data": {
      "text/html": [
       "<div>\n",
       "<style scoped>\n",
       "    .dataframe tbody tr th:only-of-type {\n",
       "        vertical-align: middle;\n",
       "    }\n",
       "\n",
       "    .dataframe tbody tr th {\n",
       "        vertical-align: top;\n",
       "    }\n",
       "\n",
       "    .dataframe thead th {\n",
       "        text-align: right;\n",
       "    }\n",
       "</style>\n",
       "<table border=\"1\" class=\"dataframe\">\n",
       "  <thead>\n",
       "    <tr style=\"text-align: right;\">\n",
       "      <th></th>\n",
       "      <th>0</th>\n",
       "      <th>1</th>\n",
       "      <th>2</th>\n",
       "      <th>3</th>\n",
       "      <th>4</th>\n",
       "      <th>5</th>\n",
       "      <th>6</th>\n",
       "      <th>7</th>\n",
       "      <th>8</th>\n",
       "      <th>9</th>\n",
       "      <th>...</th>\n",
       "      <th>208</th>\n",
       "      <th>209</th>\n",
       "      <th>210</th>\n",
       "      <th>211</th>\n",
       "      <th>212</th>\n",
       "      <th>213</th>\n",
       "      <th>214</th>\n",
       "      <th>215</th>\n",
       "      <th>216</th>\n",
       "      <th>217</th>\n",
       "    </tr>\n",
       "  </thead>\n",
       "  <tbody>\n",
       "    <tr>\n",
       "      <th>0</th>\n",
       "      <td>heating</td>\n",
       "      <td>standard</td>\n",
       "      <td>cable</td>\n",
       "      <td>wifi</td>\n",
       "      <td>smoke</td>\n",
       "      <td>alarm</td>\n",
       "      <td>dryer</td>\n",
       "      <td>kitchen</td>\n",
       "      <td>washer</td>\n",
       "      <td>essentials</td>\n",
       "      <td>...</td>\n",
       "      <td>NaN</td>\n",
       "      <td>NaN</td>\n",
       "      <td>NaN</td>\n",
       "      <td>NaN</td>\n",
       "      <td>NaN</td>\n",
       "      <td>NaN</td>\n",
       "      <td>NaN</td>\n",
       "      <td>NaN</td>\n",
       "      <td>NaN</td>\n",
       "      <td>NaN</td>\n",
       "    </tr>\n",
       "    <tr>\n",
       "      <th>1</th>\n",
       "      <td>window</td>\n",
       "      <td>guard</td>\n",
       "      <td>bathtub</td>\n",
       "      <td>water</td>\n",
       "      <td>kettle</td>\n",
       "      <td>laundromat</td>\n",
       "      <td>nearby</td>\n",
       "      <td>indoor</td>\n",
       "      <td>fireplace</td>\n",
       "      <td>microwave</td>\n",
       "      <td>...</td>\n",
       "      <td>NaN</td>\n",
       "      <td>NaN</td>\n",
       "      <td>NaN</td>\n",
       "      <td>NaN</td>\n",
       "      <td>NaN</td>\n",
       "      <td>NaN</td>\n",
       "      <td>NaN</td>\n",
       "      <td>NaN</td>\n",
       "      <td>NaN</td>\n",
       "      <td>NaN</td>\n",
       "    </tr>\n",
       "    <tr>\n",
       "      <th>2</th>\n",
       "      <td>bathtub</td>\n",
       "      <td>water</td>\n",
       "      <td>kettle</td>\n",
       "      <td>laundromat</td>\n",
       "      <td>nearby</td>\n",
       "      <td>private</td>\n",
       "      <td>patio</td>\n",
       "      <td>balcony</td>\n",
       "      <td>paid</td>\n",
       "      <td>street</td>\n",
       "      <td>...</td>\n",
       "      <td>NaN</td>\n",
       "      <td>NaN</td>\n",
       "      <td>NaN</td>\n",
       "      <td>NaN</td>\n",
       "      <td>NaN</td>\n",
       "      <td>NaN</td>\n",
       "      <td>NaN</td>\n",
       "      <td>NaN</td>\n",
       "      <td>NaN</td>\n",
       "      <td>NaN</td>\n",
       "    </tr>\n",
       "    <tr>\n",
       "      <th>3</th>\n",
       "      <td>shampoo</td>\n",
       "      <td>luggage</td>\n",
       "      <td>dropoff</td>\n",
       "      <td>allow</td>\n",
       "      <td>dryer</td>\n",
       "      <td>microwave</td>\n",
       "      <td>coffee</td>\n",
       "      <td>maker</td>\n",
       "      <td>water</td>\n",
       "      <td>iron</td>\n",
       "      <td>...</td>\n",
       "      <td>NaN</td>\n",
       "      <td>NaN</td>\n",
       "      <td>NaN</td>\n",
       "      <td>NaN</td>\n",
       "      <td>NaN</td>\n",
       "      <td>NaN</td>\n",
       "      <td>NaN</td>\n",
       "      <td>NaN</td>\n",
       "      <td>NaN</td>\n",
       "      <td>NaN</td>\n",
       "    </tr>\n",
       "    <tr>\n",
       "      <th>4</th>\n",
       "      <td>window</td>\n",
       "      <td>guard</td>\n",
       "      <td>bathtub</td>\n",
       "      <td>water</td>\n",
       "      <td>kettle</td>\n",
       "      <td>laundromat</td>\n",
       "      <td>nearby</td>\n",
       "      <td>free</td>\n",
       "      <td>driveway</td>\n",
       "      <td>park</td>\n",
       "      <td>...</td>\n",
       "      <td>NaN</td>\n",
       "      <td>NaN</td>\n",
       "      <td>NaN</td>\n",
       "      <td>NaN</td>\n",
       "      <td>NaN</td>\n",
       "      <td>NaN</td>\n",
       "      <td>NaN</td>\n",
       "      <td>NaN</td>\n",
       "      <td>NaN</td>\n",
       "      <td>NaN</td>\n",
       "    </tr>\n",
       "    <tr>\n",
       "      <th>...</th>\n",
       "      <td>...</td>\n",
       "      <td>...</td>\n",
       "      <td>...</td>\n",
       "      <td>...</td>\n",
       "      <td>...</td>\n",
       "      <td>...</td>\n",
       "      <td>...</td>\n",
       "      <td>...</td>\n",
       "      <td>...</td>\n",
       "      <td>...</td>\n",
       "      <td>...</td>\n",
       "      <td>...</td>\n",
       "      <td>...</td>\n",
       "      <td>...</td>\n",
       "      <td>...</td>\n",
       "      <td>...</td>\n",
       "      <td>...</td>\n",
       "      <td>...</td>\n",
       "      <td>...</td>\n",
       "      <td>...</td>\n",
       "      <td>...</td>\n",
       "    </tr>\n",
       "    <tr>\n",
       "      <th>87941</th>\n",
       "      <td>water</td>\n",
       "      <td>kettle</td>\n",
       "      <td>laundromat</td>\n",
       "      <td>nearby</td>\n",
       "      <td>shampoo</td>\n",
       "      <td>luggage</td>\n",
       "      <td>dropoff</td>\n",
       "      <td>allow</td>\n",
       "      <td>dryer</td>\n",
       "      <td>coffee</td>\n",
       "      <td>...</td>\n",
       "      <td>NaN</td>\n",
       "      <td>NaN</td>\n",
       "      <td>NaN</td>\n",
       "      <td>NaN</td>\n",
       "      <td>NaN</td>\n",
       "      <td>NaN</td>\n",
       "      <td>NaN</td>\n",
       "      <td>NaN</td>\n",
       "      <td>NaN</td>\n",
       "      <td>NaN</td>\n",
       "    </tr>\n",
       "    <tr>\n",
       "      <th>87942</th>\n",
       "      <td>bathtub</td>\n",
       "      <td>free</td>\n",
       "      <td>dryer</td>\n",
       "      <td>unit</td>\n",
       "      <td>water</td>\n",
       "      <td>kettle</td>\n",
       "      <td>private</td>\n",
       "      <td>patio</td>\n",
       "      <td>balcony</td>\n",
       "      <td>fire</td>\n",
       "      <td>...</td>\n",
       "      <td>NaN</td>\n",
       "      <td>NaN</td>\n",
       "      <td>NaN</td>\n",
       "      <td>NaN</td>\n",
       "      <td>NaN</td>\n",
       "      <td>NaN</td>\n",
       "      <td>NaN</td>\n",
       "      <td>NaN</td>\n",
       "      <td>NaN</td>\n",
       "      <td>NaN</td>\n",
       "    </tr>\n",
       "    <tr>\n",
       "      <th>87943</th>\n",
       "      <td>window</td>\n",
       "      <td>guard</td>\n",
       "      <td>bathtub</td>\n",
       "      <td>water</td>\n",
       "      <td>kettle</td>\n",
       "      <td>laundromat</td>\n",
       "      <td>nearby</td>\n",
       "      <td>paid</td>\n",
       "      <td>street</td>\n",
       "      <td>park</td>\n",
       "      <td>...</td>\n",
       "      <td>NaN</td>\n",
       "      <td>NaN</td>\n",
       "      <td>NaN</td>\n",
       "      <td>NaN</td>\n",
       "      <td>NaN</td>\n",
       "      <td>NaN</td>\n",
       "      <td>NaN</td>\n",
       "      <td>NaN</td>\n",
       "      <td>NaN</td>\n",
       "      <td>NaN</td>\n",
       "    </tr>\n",
       "    <tr>\n",
       "      <th>87944</th>\n",
       "      <td>water</td>\n",
       "      <td>kettle</td>\n",
       "      <td>dryer</td>\n",
       "      <td>microwave</td>\n",
       "      <td>coffee</td>\n",
       "      <td>maker</td>\n",
       "      <td>linens</td>\n",
       "      <td>iron</td>\n",
       "      <td>patio</td>\n",
       "      <td>balcony</td>\n",
       "      <td>...</td>\n",
       "      <td>NaN</td>\n",
       "      <td>NaN</td>\n",
       "      <td>NaN</td>\n",
       "      <td>NaN</td>\n",
       "      <td>NaN</td>\n",
       "      <td>NaN</td>\n",
       "      <td>NaN</td>\n",
       "      <td>NaN</td>\n",
       "      <td>NaN</td>\n",
       "      <td>NaN</td>\n",
       "    </tr>\n",
       "    <tr>\n",
       "      <th>87945</th>\n",
       "      <td>bathtub</td>\n",
       "      <td>free</td>\n",
       "      <td>dryer</td>\n",
       "      <td>unit</td>\n",
       "      <td>water</td>\n",
       "      <td>kettle</td>\n",
       "      <td>shampoo</td>\n",
       "      <td>free</td>\n",
       "      <td>washer</td>\n",
       "      <td>unit</td>\n",
       "      <td>...</td>\n",
       "      <td>NaN</td>\n",
       "      <td>NaN</td>\n",
       "      <td>NaN</td>\n",
       "      <td>NaN</td>\n",
       "      <td>NaN</td>\n",
       "      <td>NaN</td>\n",
       "      <td>NaN</td>\n",
       "      <td>NaN</td>\n",
       "      <td>NaN</td>\n",
       "      <td>NaN</td>\n",
       "    </tr>\n",
       "  </tbody>\n",
       "</table>\n",
       "<p>87946 rows × 218 columns</p>\n",
       "</div>"
      ],
      "text/plain": [
       "             0         1           2           3        4           5  \\\n",
       "0      heating  standard       cable        wifi    smoke       alarm   \n",
       "1       window     guard     bathtub       water   kettle  laundromat   \n",
       "2      bathtub     water      kettle  laundromat   nearby     private   \n",
       "3      shampoo   luggage     dropoff       allow    dryer   microwave   \n",
       "4       window     guard     bathtub       water   kettle  laundromat   \n",
       "...        ...       ...         ...         ...      ...         ...   \n",
       "87941    water    kettle  laundromat      nearby  shampoo     luggage   \n",
       "87942  bathtub      free       dryer        unit    water      kettle   \n",
       "87943   window     guard     bathtub       water   kettle  laundromat   \n",
       "87944    water    kettle       dryer   microwave   coffee       maker   \n",
       "87945  bathtub      free       dryer        unit    water      kettle   \n",
       "\n",
       "             6        7          8           9  ...  208  209  210  211  212  \\\n",
       "0        dryer  kitchen     washer  essentials  ...  NaN  NaN  NaN  NaN  NaN   \n",
       "1       nearby   indoor  fireplace   microwave  ...  NaN  NaN  NaN  NaN  NaN   \n",
       "2        patio  balcony       paid      street  ...  NaN  NaN  NaN  NaN  NaN   \n",
       "3       coffee    maker      water        iron  ...  NaN  NaN  NaN  NaN  NaN   \n",
       "4       nearby     free   driveway        park  ...  NaN  NaN  NaN  NaN  NaN   \n",
       "...        ...      ...        ...         ...  ...  ...  ...  ...  ...  ...   \n",
       "87941  dropoff    allow      dryer      coffee  ...  NaN  NaN  NaN  NaN  NaN   \n",
       "87942  private    patio    balcony        fire  ...  NaN  NaN  NaN  NaN  NaN   \n",
       "87943   nearby     paid     street        park  ...  NaN  NaN  NaN  NaN  NaN   \n",
       "87944   linens     iron      patio     balcony  ...  NaN  NaN  NaN  NaN  NaN   \n",
       "87945  shampoo     free     washer        unit  ...  NaN  NaN  NaN  NaN  NaN   \n",
       "\n",
       "       213  214  215  216  217  \n",
       "0      NaN  NaN  NaN  NaN  NaN  \n",
       "1      NaN  NaN  NaN  NaN  NaN  \n",
       "2      NaN  NaN  NaN  NaN  NaN  \n",
       "3      NaN  NaN  NaN  NaN  NaN  \n",
       "4      NaN  NaN  NaN  NaN  NaN  \n",
       "...    ...  ...  ...  ...  ...  \n",
       "87941  NaN  NaN  NaN  NaN  NaN  \n",
       "87942  NaN  NaN  NaN  NaN  NaN  \n",
       "87943  NaN  NaN  NaN  NaN  NaN  \n",
       "87944  NaN  NaN  NaN  NaN  NaN  \n",
       "87945  NaN  NaN  NaN  NaN  NaN  \n",
       "\n",
       "[87946 rows x 218 columns]"
      ]
     },
     "execution_count": 4,
     "metadata": {},
     "output_type": "execute_result"
    }
   ],
   "source": [
    "# 从norm并且split后的数据读取csv\n",
    "amenities_norm_split = pd.read_csv(os.path.join(\"..\",\"Data\",\"amenities_norm_split.csv\"),low_memory=False)\n",
    "\n",
    "# 将 'amenities' 列中的字符串转换为列表\n",
    "# 使用 ast.literal_eval 安全地评估字符串表达的列表\n",
    "amenities_ast_literal = amenities_norm_split\n",
    "amenities_ast_literal.drop('Unnamed: 0',axis=1)"
   ]
  },
  {
   "cell_type": "code",
   "execution_count": 5,
   "metadata": {},
   "outputs": [
    {
     "name": "stdout",
     "output_type": "stream",
     "text": [
      "87946\n"
     ]
    }
   ],
   "source": [
    "list_of_lists = amenities_ast_literal.apply(lambda row: [item for item in row if item is not None], axis=1).tolist()\n",
    "\n",
    "print(len(list_of_lists))"
   ]
  },
  {
   "cell_type": "code",
   "execution_count": 7,
   "metadata": {},
   "outputs": [],
   "source": [
    "# 准备用于 Word2Vec 的数据\n",
    "# list_of_lists\n",
    "\n",
    "# 指定训练参数\n",
    "dims = 200\n",
    "window = 20\n",
    "\n",
    "# 训练 Word2Vec 模型\n",
    "model = Word2Vec(sentences=list_of_lists, vector_size=dims, window=window, min_count=3, workers=4)"
   ]
  },
  {
   "cell_type": "code",
   "execution_count": 8,
   "metadata": {},
   "outputs": [],
   "source": [
    "# 保存word2vec模型\n",
    "model.save(os.path.join(\"..\",\"Model\",f\"word2vec-d{dims}-w{window}.model\"))"
   ]
  },
  {
   "cell_type": "code",
   "execution_count": 8,
   "metadata": {},
   "outputs": [
    {
     "name": "stdout",
     "output_type": "stream",
     "text": [
      "Accuracy: 0.8054007959067652\n"
     ]
    }
   ],
   "source": [
    "\"\"\"# 随机森林方法 Random Forest\n",
    "\n",
    "#使用任何类型的分类器来预测是否income超过平均值\n",
    "# 划分训练集和测试集\n",
    "X_train, X_test, y_train, y_test = train_test_split(doc_vectors, Airbnb_Listing['profitable'], test_size=0.2, random_state=42)\n",
    "\n",
    "# 训练分类器\n",
    "classifier = RandomForestClassifier(n_estimators=300, random_state=42)\n",
    "classifier.fit(X_train, y_train)\n",
    "\n",
    "# 预测测试集\n",
    "y_pred = classifier.predict(X_test)\n",
    "\n",
    "# 评估模型\n",
    "print(\"Accuracy:\", accuracy_score(y_test, y_pred))\n",
    "\"\"\""
   ]
  },
  {
   "cell_type": "code",
   "execution_count": 17,
   "metadata": {},
   "outputs": [
    {
     "name": "stdout",
     "output_type": "stream",
     "text": [
      "Accuracy: 0.7957362137578169\n"
     ]
    }
   ],
   "source": [
    "#SVM方法\n",
    "# 划分训练集和测试集\n",
    "X_train, X_test, y_train, y_test = train_test_split(doc_vectors, Airbnb_Listing['profitable'], test_size=0.2, random_state=42)\n",
    "\n",
    "# 创建 SVM 分类器实例\n",
    "svm_classifier = SVC(random_state=42)\n",
    "\n",
    "# 训练分类器\n",
    "svm_classifier.fit(X_train, y_train)\n",
    "\n",
    "# 预测测试集\n",
    "y_pred = svm_classifier.predict(X_test)\n",
    "\n",
    "# 评估模型\n",
    "print(\"Accuracy:\", accuracy_score(y_test, y_pred))\n",
    "\n"
   ]
  },
  {
   "cell_type": "markdown",
   "metadata": {},
   "source": [
    "保存SVM模型与保存后的Airbnb_Listing_norm_income"
   ]
  },
  {
   "cell_type": "code",
   "execution_count": 11,
   "metadata": {},
   "outputs": [
    {
     "data": {
      "text/plain": [
       "['svm_classfier_model.joblib']"
      ]
     },
     "execution_count": 11,
     "metadata": {},
     "output_type": "execute_result"
    }
   ],
   "source": [
    "dump(classifier, 'randforest_classfier_model.joblib')\n",
    "dump(svm_classifier, 'svm_classfier_model.joblib')"
   ]
  },
  {
   "cell_type": "markdown",
   "metadata": {},
   "source": [
    "读取导入word2vec模型\n"
   ]
  },
  {
   "cell_type": "code",
   "execution_count": 6,
   "metadata": {},
   "outputs": [],
   "source": [
    "# import Word2Vec Model from index\n",
    "word2vec_model = Word2Vec.load(os.path.join(\"..\",\"Model\",\"word2vec-d500-w20.model\"))"
   ]
  },
  {
   "cell_type": "markdown",
   "metadata": {},
   "source": [
    "将训练后model应用于'amenities'列"
   ]
  },
  {
   "cell_type": "code",
   "execution_count": 7,
   "metadata": {},
   "outputs": [],
   "source": [
    "\n",
    "\"\"\"# 预处理函数\n",
    "def preprocess(text):\n",
    "    # 这里添加文本清洗逻辑（例如：转换为小写，去除标点等）\n",
    "    return text.lower()\"\"\"\n",
    "\n",
    "# 向量化函数\n",
    "def vectorize(text, model):\n",
    "    # 将文本分解为单词，并过滤掉模型词汇表中不存在的单词\n",
    "    words = [word for word in text if word in model.wv.key_to_index]\n",
    "    # 如果文本中没有模型已知的单词，则返回零向量\n",
    "    if len(words) == 0:\n",
    "        return np.zeros(model.vector_size)\n",
    "    # 计算所有单词向量的平均值\n",
    "    word_vectors = [model.wv[word] for word in words]\n",
    "    return np.mean(word_vectors, axis=0)\n",
    "\n"
   ]
  },
  {
   "cell_type": "code",
   "execution_count": 8,
   "metadata": {},
   "outputs": [],
   "source": [
    "Airbnb_Listing['amenities_vector'] = pd.Series(list_of_lists).apply(lambda x: vectorize(x, word2vec_model))"
   ]
  },
  {
   "cell_type": "code",
   "execution_count": 9,
   "metadata": {},
   "outputs": [],
   "source": [
    "amenities_vector = Airbnb_Listing['amenities_vector']"
   ]
  },
  {
   "cell_type": "code",
   "execution_count": 10,
   "metadata": {},
   "outputs": [
    {
     "data": {
      "text/plain": [
       "0    [-1.0486246, 0.5344302, -0.083113596, -1.44642...\n",
       "1    [0.2819652, -0.40748537, -0.18781887, -0.13380...\n",
       "2    [0.51126474, -0.2657438, -0.09904245, 0.004234...\n",
       "3    [0.08160019, -0.10968636, -0.42752135, -0.4371...\n",
       "4    [0.31954134, -0.003163001, -0.2455043, -0.1549...\n",
       "Name: amenities_vector, dtype: object"
      ]
     },
     "execution_count": 10,
     "metadata": {},
     "output_type": "execute_result"
    }
   ],
   "source": [
    "amenities_vector.head()"
   ]
  },
  {
   "cell_type": "code",
   "execution_count": 11,
   "metadata": {},
   "outputs": [],
   "source": [
    "# UMAP降维可视化word2vec模型 \n",
    "# 将pd.Series转换为np.array形式\n",
    "amenities_vector_nparray = amenities_vector.to_numpy()"
   ]
  },
  {
   "cell_type": "code",
   "execution_count": 12,
   "metadata": {},
   "outputs": [],
   "source": [
    "numpy_array = np.array([np.array(x) for x in amenities_vector_nparray])\n"
   ]
  },
  {
   "cell_type": "code",
   "execution_count": 13,
   "metadata": {},
   "outputs": [],
   "source": [
    "reducer = umap.UMAP(n_components=2,n_neighbors=20)\n",
    "embedding = reducer.fit_transform(numpy_array)"
   ]
  },
  {
   "cell_type": "code",
   "execution_count": 14,
   "metadata": {},
   "outputs": [
    {
     "name": "stdout",
     "output_type": "stream",
     "text": [
      "New center after translation: [-8.140475e-05  6.418813e-05]\n"
     ]
    }
   ],
   "source": [
    "# 计算所有点的中心坐标\n",
    "center = embedding.mean(axis=0)\n",
    "\n",
    "# 计算平移量\n",
    "translation = -center\n",
    "\n",
    "# 对所有点应用平移变换\n",
    "translated_embedding = embedding + translation\n",
    "\n",
    "# 验证新的中心点\n",
    "new_center = translated_embedding.mean(axis=0)\n",
    "print(f\"New center after translation: {new_center}\")"
   ]
  },
  {
   "cell_type": "code",
   "execution_count": 15,
   "metadata": {},
   "outputs": [
    {
     "data": {
      "image/png": "[encoded data removed]",
      "text/plain": [
       "<Figure size 800x800 with 1 Axes>"
      ]
     },
     "metadata": {},
     "output_type": "display_data"
    }
   ],
   "source": [
    "plt.figure(figsize=(8, 8))\n",
    "\n",
    "plt.scatter(translated_embedding[:, 0], translated_embedding[:, 1],s=2, alpha=0.5)\n",
    "plt.title('2D UMAP Projection')\n",
    "plt.xlabel('UMAP1')\n",
    "plt.ylabel('UMAP2')\n",
    "\n",
    "plt.savefig(os.path.join(\"..\",\"Images\",\"Word2Vec_2D_UMAP_Projection.png\"), dpi=300)\n",
    "\n",
    "\n",
    "plt.show()"
   ]
  }
 ],
 "metadata": {
  "kernelspec": {
   "display_name": "base",
   "language": "python",
   "name": "python3"
  },
  "language_info": {
   "codemirror_mode": {
    "name": "ipython",
    "version": 3
   },
   "file_extension": ".py",
   "mimetype": "text/x-python",
   "name": "python",
   "nbconvert_exporter": "python",
   "pygments_lexer": "ipython3",
   "version": "3.11.5"
  }
 },
 "nbformat": 4,
 "nbformat_minor": 2
}
