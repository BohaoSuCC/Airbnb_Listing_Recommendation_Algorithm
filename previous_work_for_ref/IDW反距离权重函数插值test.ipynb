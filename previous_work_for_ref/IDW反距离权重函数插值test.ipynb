{
 "cells": [
  {
   "cell_type": "code",
   "execution_count": null,
   "metadata": {},
   "outputs": [],
   "source": [
    "# 定义IDW插值函数\n",
    "def idw_interpolation(x, y, z, xi, yi, k=1000):\n",
    "    tree = cKDTree(np.vstack((x, y)).T)\n",
    "    distances, locations = tree.query(np.vstack((xi.flatten(), yi.flatten())).T, k=k)\n",
    "    weights = 1 / distances\n",
    "    weights /= weights.sum(axis=1)[:, None]\n",
    "    # 使用循环来处理每个查询点\n",
    "    zi = np.zeros(xi.shape).flatten()\n",
    "    for i, loc in enumerate(locations):\n",
    "        zi[i] = np.sum(weights[i] * z.iloc[loc])\n",
    "\n",
    "    return zi.reshape(xi.shape)\n"
   ]
  },
  {
   "cell_type": "code",
   "execution_count": null,
   "metadata": {},
   "outputs": [],
   "source": [
    "# 更改伦敦borough边界的CRS\n",
    "London_boroughs = London_boroughs.to_crs(epsg=3857)"
   ]
  },
  {
   "cell_type": "code",
   "execution_count": null,
   "metadata": {},
   "outputs": [],
   "source": [
    "# 将 DataFrame 转换为 GeoDataFrame\n",
    "gdf = gpd.GeoDataFrame(\n",
    "    gdf_listing, \n",
    "    geometry=gpd.points_from_xy(gdf_listing.longitude, gdf_listing.latitude)\n",
    ")\n",
    "gdf.crs = \"EPSG:4326\"  # 设置坐标参考系统为 WGS84\n",
    "# 将数据从 WGS84 转换到 Web Mercator\n",
    "gdf = gdf.to_crs(epsg=3857)\n",
    "# 创建网格用于IDW插值\n",
    "x_IDW = np.linspace(gdf.geometry.x.min(), gdf.geometry.x.max(), 960)\n",
    "y_IDW = np.linspace(gdf.geometry.y.min(), gdf.geometry.y.max(), 960)\n",
    "xx_IDW, yy_IDW = np.meshgrid(x_IDW, y_IDW)\n",
    "\n",
    "# 执行 IDW 插值\n",
    "zi = idw_interpolation(gdf.geometry.x, gdf.geometry.y, gdf['sum_income'], xx_IDW, yy_IDW)\n",
    "\n",
    "\n"
   ]
  },
  {
   "cell_type": "code",
   "execution_count": null,
   "metadata": {},
   "outputs": [],
   "source": [
    "# 对插值后的zi进行双立方卷积（使边缘平滑过渡）\n",
    "# 创建一个双立方核（3x3）\n",
    "convolve_kernel_2cube = np.array([[1/16, 1/8, 1/16],\n",
    "                   [1/8,  1/4, 1/8],\n",
    "                   [1/16, 1/8, 1/16]])\n",
    "# 创建一个5*5的卷积核（5x5）\n",
    "convolve_kernel_5times = np.array([[1/273, 4/273, 7/273, 4/273, 1/273],\n",
    "                                    [4/273, 16/273, 26/273, 16/273, 4/273],\n",
    "                                    [7/273, 26/273, 41/273, 26/273, 7/273],\n",
    "                                    [4/273, 16/273, 26/273, 16/273, 4/273],\n",
    "                                    [1/273, 4/273, 7/273, 4/273, 1/273]])\n",
    "\n",
    "\n",
    "# 对zi应用双立方卷积\n",
    "zi_smoothed = convolve(zi, convolve_kernel_5times)"
   ]
  },
  {
   "cell_type": "code",
   "execution_count": null,
   "metadata": {},
   "outputs": [],
   "source": [
    "# 正确地将扁平化的数组转换为 pandas Series\n",
    "zi_flatten = pd.Series(zi.flatten())\n",
    "print(zi_flatten.max())\n",
    "print(zi_flatten.min())\n",
    "print(zi_flatten.median())\n",
    "\n",
    "zi_smoothed_flatten = pd.Series(zi_smoothed.flatten())\n",
    "print(zi_smoothed_flatten.max())\n",
    "print(zi_smoothed_flatten.min())\n",
    "print(zi_smoothed_flatten.median())\n",
    "\n",
    "# 创建图表和轴\n",
    "fig, (ax1, ax2) = plt.subplots(1, 2, figsize=(12, 6))\n",
    "\n",
    "# 在第一个轴上绘制 zi_flatten 的直方图\n",
    "ax1.hist(zi_flatten, bins=3000)  # 调整 bins 的数量以更好地展示数据分布\n",
    "ax1.set_xlim(0, 20000)\n",
    "ax1.set_title('Original Data Histogram')\n",
    "\n",
    "# 在第二个轴上绘制 zi_smoothed_flatten 的直方图\n",
    "ax2.hist(zi_smoothed_flatten, bins=3000)  # 同样的bins数量\n",
    "ax2.set_xlim(0, 20000)\n",
    "ax2.set_title('Smoothed Data Histogram')\n",
    "plt.show()"
   ]
  },
  {
   "cell_type": "code",
   "execution_count": null,
   "metadata": {},
   "outputs": [],
   "source": [
    "quantiles = np.linspace(0, 1, 41)\n",
    "levels = np.quantile(zi.flatten(), quantiles)\n",
    "standard_format_numbers = [format(num, 'f') for num in levels]\n",
    "print(standard_format_numbers)"
   ]
  },
  {
   "cell_type": "code",
   "execution_count": null,
   "metadata": {},
   "outputs": [],
   "source": [
    "# 对数值进行分隔\n",
    "quantiles = np.linspace(0, 1, 21)\n",
    "levels = np.quantile(zi_smoothed.flatten(), quantiles)\n",
    "#levels = np.array([0,2000,2500,2700,2900,3000,3400,3737,3800,4000,4200,4500,4800,5000,7000,200000])\n",
    "\n",
    "# 绘制地图\n",
    "fig, ax = plt.subplots(figsize=(16, 16))\n",
    "ax.contourf(xx_IDW, yy_IDW, zi_smoothed, levels=levels, cmap=\"tab20c_r\", alpha=0.6)\n",
    "London_boroughs.boundary.plot(ax=ax, edgecolor='brown', linewidth=2, alpha=0.4)\n",
    "\n",
    "# 设置颜色规范化\n",
    "norm = mcolors.Normalize(vmin=gdf['sum_income'].min(), vmax=gdf['sum_income'].max())\n",
    "\n",
    "# 绘制点，根据sum_income列进行上色\n",
    "# 这里假设gdf具有'geometry'列，包含点的位置\n",
    "#scatter = ax.scatter(gdf.geometry.x, gdf.geometry.y, c=gdf['sum_income'], edgecolors=None, s=2, cmap='viridis', alpha=0.2, norm=norm)\n",
    "\n",
    "# 添加颜色条\n",
    "#plt.colorbar(scatter, ax=ax, label='Income')\n",
    "\n",
    "#gdf.plot(ax=ax, color='black', markersize=2, alpha=0.25)               # 绘制点\n",
    "ctx.add_basemap(ax, source=ctx.providers.OpenStreetMap.Mapnik)         #添加OSM底图\n",
    "\n",
    "plt.show()"
   ]
  }
 ],
 "metadata": {
  "language_info": {
   "name": "python"
  }
 },
 "nbformat": 4,
 "nbformat_minor": 2
}
